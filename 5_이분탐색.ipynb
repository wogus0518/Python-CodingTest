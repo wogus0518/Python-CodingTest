{
  "nbformat": 4,
  "nbformat_minor": 0,
  "metadata": {
    "colab": {
      "name": "5. 이분탐색.ipynb",
      "provenance": [],
      "toc_visible": true,
      "collapsed_sections": [],
      "authorship_tag": "ABX9TyPAlGRURAd6UrpqzHGIVayh",
      "include_colab_link": true
    },
    "kernelspec": {
      "name": "python3",
      "display_name": "Python 3"
    },
    "language_info": {
      "name": "python"
    }
  },
  "cells": [
    {
      "cell_type": "markdown",
      "metadata": {
        "id": "view-in-github",
        "colab_type": "text"
      },
      "source": [
        "<a href=\"https://colab.research.google.com/github/wogus0518/Python-CodingTest/blob/main/5_%EC%9D%B4%EB%B6%84%ED%83%90%EC%83%89.ipynb\" target=\"_parent\"><img src=\"https://colab.research.google.com/assets/colab-badge.svg\" alt=\"Open In Colab\"/></a>"
      ]
    },
    {
      "cell_type": "markdown",
      "source": [
        "선형탐색은 순차탐색이라고도 하며 단순한 탐색 알고리즘이므로 반복문을 돌려 하나하나 비교하며 찾는 것이다. 시간 복잡도는 O(N)이다."
      ],
      "metadata": {
        "id": "cKNyWCWWC4BO"
      }
    },
    {
      "cell_type": "markdown",
      "source": [
        "#이분탐색\n",
        "이분탐색은 선형탐색보다 구현이 더 복잡하지만 더 빠른 탐색 알고리즘이다. 탐색할 부분이 하나만 남을 때까지 `탐색 범위를 절반씩 줄여 가는 방식`인데 이분탐색을 하기 위해서는 우선 배열 안에 값들이 `정렬`되어 있어야한다.</br>\n",
        "총 길이가 N인 배열을 이분탐색 한다면 탐색 범위가 반씩 줄어서 시간 복잡도는 O(logN)이다.</br>\n",
        "파이썬의 경우 bisect_left(), bisect_right() 모듈을 사용한다.\n",
        "\n",
        "##이분탐색이 유리한 경우\n",
        "- 입력 데이터가 처음부터 정렬되어 주어지는 경우\n",
        "- 탐색을 여러 번 해야 할 때 사용"
      ],
      "metadata": {
        "id": "7Xgczm4IDPns"
      }
    },
    {
      "cell_type": "code",
      "execution_count": null,
      "metadata": {
        "colab": {
          "base_uri": "https://localhost:8080/"
        },
        "id": "BQ9cNtiFC12V",
        "outputId": "c248ce7b-33b2-4868-f3b0-2f2ca0cd80f6"
      },
      "outputs": [
        {
          "output_type": "stream",
          "name": "stdout",
          "text": [
            "2 5\n"
          ]
        }
      ],
      "source": [
        "from bisect import bisect_right, bisect_left\n",
        "\n",
        "a = [2, 3, 6, 6, 6, 10, 12, 15]\n",
        "l = bisect_left(a,6)\n",
        "r = bisect_right(a,6)\n",
        "print(l, r)"
      ]
    },
    {
      "cell_type": "markdown",
      "source": [
        "#매개변수탐색(Parametric Search)\n",
        "최적화 문제를 결정 문제로 바꿔 푸는 탐색 알고리즘\n",
        "- 최적화 문제: 문제 상황을 만족하는 변수의 최솟값, 최댓값을 구하는 문제\n",
        "- 결정 문제 : Yes, No 중 하나로 답할 수 있는 문제\n",
        "파라메트릭 서치는 다른 알고리즘과 결합해서 문제를 내기 좋으므로 단독보다는 다른 알고리즘과 결부시켜 출제되는 경우가 많다."
      ],
      "metadata": {
        "id": "8YGWdaWIFzsV"
      }
    },
    {
      "cell_type": "markdown",
      "source": [
        "##2805번 / 나무 자르기"
      ],
      "metadata": {
        "id": "AxscUrJ1Gz82"
      }
    },
    {
      "cell_type": "code",
      "source": [
        "import sys\n",
        "\n",
        "input = sys.stdin.readline\n",
        "\n",
        "N, M = map(int, input().split())\n",
        "trees = list(map(int, input().split()))\n",
        "highest = max(trees)\n",
        "h = highest // 2\n",
        "low = 0\n",
        "\n",
        "while True:\n",
        "  bring_home = 0\n",
        "  for tree in trees:\n",
        "    if tree>h:\n",
        "      bring_home += tree-h\n",
        "  if bring_home == M:\n",
        "    print(h)\n",
        "    break\n",
        "  elif bring_home < M:\n",
        "    h = (low+h) // 2\n",
        "  elif bring_home > M:\n",
        "    low = h\n",
        "    h = (highest+h) // 2"
      ],
      "metadata": {
        "colab": {
          "base_uri": "https://localhost:8080/"
        },
        "id": "r1rgPCxyG4wz",
        "outputId": "962a93af-3409-4b94-9ff6-fc8a0e1ceffb"
      },
      "execution_count": null,
      "outputs": [
        {
          "output_type": "execute_result",
          "data": {
            "text/plain": [
              "7"
            ]
          },
          "metadata": {},
          "execution_count": 9
        }
      ]
    },
    {
      "cell_type": "markdown",
      "source": [
        "##10816번 / 숫자 카드 2"
      ],
      "metadata": {
        "id": "bqdVJ5wUVRPR"
      }
    },
    {
      "cell_type": "code",
      "source": [
        "from bisect import bisect_left, bisect_right\n",
        "import sys\n",
        "\n",
        "input = sys.stdin.readline\n",
        "\n",
        "N = int(input())\n",
        "sang = list(map(int, input().split()))\n",
        "M = int(input())\n",
        "ans_list = list(map(int, input().split()))\n",
        "\n",
        "sang = sorted(sang)\n",
        "result = list()\n",
        "\n",
        "for a in ans_list:\n",
        "  l = bisect_left(sang, a)\n",
        "  r = bisect_right(sang, a)\n",
        "  result.append(str(r-l))\n",
        "print(\" \".join(result))"
      ],
      "metadata": {
        "id": "nsxLyad9UMbU"
      },
      "execution_count": null,
      "outputs": []
    },
    {
      "cell_type": "markdown",
      "source": [
        "##1920번 / 수 찾기"
      ],
      "metadata": {
        "id": "iw3CwHt3kiP-"
      }
    },
    {
      "cell_type": "code",
      "source": [
        "from sys import stdin, stdout\n",
        "\n",
        "N = stdin.readline()\n",
        "data_list = sorted(map(int, stdin.readline().split()))\n",
        "M = stdin.readline()\n",
        "find_list = map(int, stdin.readline().split())\n",
        "\n",
        "\n",
        "def binary(num, data_list, start, end):\n",
        "    if start > end:\n",
        "        return 0\n",
        "    M = (start + end) // 2\n",
        "    if num == data_list[M]:\n",
        "        return 1\n",
        "    elif num < data_list[M]:\n",
        "        return binary(num, data_list, start, M - 1)\n",
        "    else:\n",
        "        return binary(num, data_list, M + 1, end)\n",
        "\n",
        "\n",
        "for num in find_list:\n",
        "    start = 0\n",
        "    end = len(data_list) - 1\n",
        "    print(binary(num, data_list, start, end))\n",
        "\n"
      ],
      "metadata": {
        "id": "2E6r1aOyVWfp"
      },
      "execution_count": null,
      "outputs": []
    },
    {
      "cell_type": "markdown",
      "source": [
        "##1654번 / 랜선 자르기"
      ],
      "metadata": {
        "id": "Gs0sRKXUCuUf"
      }
    },
    {
      "cell_type": "code",
      "source": [
        "k,n = map(int, input().split())\n",
        "lan = [int(input()) for _ in range(k)]\n",
        "\n",
        "start = 0\n",
        "end   = max(lan)\n",
        "\n",
        "def binary(start, end, lan, n):\n",
        "  m = (start+end) // 2\n",
        "  s = sum([l//m for l in lan])\n",
        "  \n",
        "  if s>=n :\n",
        "    start = m + 1\n",
        "    if start>end:\n",
        "      return print(m)\n",
        "    binary(start, end, lan, n)\n",
        "\n",
        "  else:\n",
        "    end = m - 1\n",
        "    binary(start, end, lan, n)\n",
        "\n",
        "binary(start, end, lan, n)\n"
      ],
      "metadata": {
        "id": "rNFFEJ4TCupg"
      },
      "execution_count": null,
      "outputs": []
    }
  ]
}