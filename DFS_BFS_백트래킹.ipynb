{
  "nbformat": 4,
  "nbformat_minor": 0,
  "metadata": {
    "colab": {
      "name": "DFS_BFS_백트래킹.ipynb",
      "provenance": [],
      "toc_visible": true,
      "authorship_tag": "ABX9TyMCvo4fCyl1zYNzX9LXMoa+",
      "include_colab_link": true
    },
    "kernelspec": {
      "name": "python3",
      "display_name": "Python 3"
    },
    "language_info": {
      "name": "python"
    }
  },
  "cells": [
    {
      "cell_type": "markdown",
      "metadata": {
        "id": "view-in-github",
        "colab_type": "text"
      },
      "source": [
        "<a href=\"https://colab.research.google.com/github/wogus0518/Python-CodingTest/blob/main/DFS_BFS_%EB%B0%B1%ED%8A%B8%EB%9E%98%ED%82%B9.ipynb\" target=\"_parent\"><img src=\"https://colab.research.google.com/assets/colab-badge.svg\" alt=\"Open In Colab\"/></a>"
      ]
    },
    {
      "cell_type": "markdown",
      "source": [
        "#DFS, BFS, 백트래킹\n",
        "- 먼저 선행적으로 알아야 하는 자료구조(그래프, 트리)"
      ],
      "metadata": {
        "id": "S1y4rg2x6iv-"
      }
    },
    {
      "cell_type": "markdown",
      "source": [
        "##그래프\n",
        "- 어떤 데이터들 간의 관계성을 나타낼 때 사용하는 자료구조 ex) 지하철 노선도\n",
        "- Node/Vertex, Edge로 이루어져 있다.\n",
        "- 그래프의 방향성\n",
        "    - 방향 그래프 vs 무방향 그래프\n",
        "- 그래프의 순환성\n",
        "    - 순환 그래프 vs 비순환 그래프\n",
        "- 그래프의 연결 요소\n",
        "    - 연결 요소가 5개인 그래프(Node:5, Edge:0)\n"
      ],
      "metadata": {
        "id": "9Um0JekR60Ux"
      }
    },
    {
      "cell_type": "markdown",
      "source": [
        "##트리\n",
        "- 순환성이 없는 무방향 그래프\n",
        "- Leaf node(가장 바깥쪽 Node, Edge가 1개인 Node)\n",
        "- 어떠한 Node도 Root가 될 수 있다.\n",
        "- Node A => Node B 경로는 반드시 존재하며 유일하다.\n",
        "    - 노드개수 = 간선개수 + 1\n"
      ],
      "metadata": {
        "id": "pBq9FAUE8hHr"
      }
    },
    {
      "cell_type": "markdown",
      "source": [
        "##그래프를 코드로 나타내는 방법\n",
        "1. 인접 행렬\n",
        "    - 무방향 그래프인 경우 대칭행렬\n",
        "    - 노드가 N개일 때 N^2개의 공간을 할당\n",
        "    - 특정 노드 A=>B로 가는 간선이 있는지 여부 파악 : O(1)\n",
        "2. 인접 리스트\n",
        "    - 모든 노드 간에 간선이 전부 존재하는 경우에만 N^2개의 공간\n",
        "    - 특정 노드 A=>B로 가는 간선이 있는지 여부 파악 : O(N)\n",
        "\n",
        "\n",
        "메모리 사용 : 인접 행렬 >= 인접 리스트\n",
        "\n",
        "입력 범위를 보고 \n",
        "- 노드 대비 간선의 최대 개수가 적은 편이라면 인접 리스트(인접 행렬도 가능)\n",
        "- 간선 최대 개수가 노드 개수의 제곱과 같다면 인접 행렬 사용"
      ],
      "metadata": {
        "id": "JdPZ5hPq9oFh"
      }
    },
    {
      "cell_type": "markdown",
      "source": [
        "#DFS(Depth First Search, 깊이우선탐색)\n",
        "어떤 노드에서 시작해서 답을 찾을 때까지 갈 수 있는 인접 노드로 탐색을 반복한다. 더 이상 진행할 인접 노드가 없다면 올라와서 또 다시 다른 인접 노드로 탐색을 진행\n",
        "- 스택 또는 **재귀함수**로 구현"
      ],
      "metadata": {
        "id": "H93lqgTG_j6t"
      }
    },
    {
      "cell_type": "markdown",
      "source": [
        "#BFS(Breadth First Search, 너비우선탐색)\n",
        "현재 노드에서 모든 인접 노드를 탐색하고 나서 그 다음 아래 계층으로 내려간다.\n",
        "- 큐로 구현(시작 노드를 넣고 시작하고, 큐가 비거나 정답이 되는 노드를 찾기 전까지 계속 큐에서 노드를 하나 빼서 다음 갈 수 있는 노드를 큐에 넣는 것을 반복한다.\n",
        "- 최단거리를 구하는 문제에서는 DFS보단 BFS를 사용하자."
      ],
      "metadata": {
        "id": "Be2nSWmUAYLO"
      }
    },
    {
      "cell_type": "markdown",
      "source": [
        "#백트래킹\n",
        "- 가지치기를 이용해서 완전탐색보다는 살펴보는 경우의 수가 줄어들도록 한다."
      ],
      "metadata": {
        "id": "mtdfvt7lpG59"
      }
    },
    {
      "cell_type": "code",
      "execution_count": null,
      "metadata": {
        "id": "eKoiRdAB6ebh"
      },
      "outputs": [],
      "source": [
        "from collections import deque\n",
        "\n",
        "dy = (0, 1, 0, -1)\n",
        "dx = (-1, 0, 1, 0)\n",
        "N = int(input())\n",
        "chk = [[False]*N for _ in range(N)]\n",
        "\n",
        "def is_valid_coord(y,x):\n",
        "    return 0<=y<N and 0<=x<N # 범위안에 존재하는지에 따라 True / False가 반환\n",
        "\n",
        "def dfs(y, x):\n",
        "    if adj[y][x] == ans:\n",
        "        return # 조건문이 만족할 때 탈출\n",
        "    \n",
        "    for k in range(4):\n",
        "        ny = x + dx[k]\n",
        "        ny = y + dy[k]\n",
        "        if is_valid_coord(ny, nx) and not chk[ny][nx]:\n",
        "            chk[ny][nx] = True\n",
        "            dfs(ny, nx) # 재귀 함수 호출\n",
        "\n",
        "def bfs(sy, sx): # start y, x\n",
        "    q = deque()\n",
        "    chk[sy][sx] = True\n",
        "    q.append((sy, sx))\n",
        "    while len(q):\n",
        "        y, x = q.popleft()\n",
        "        if adj[y][x] == ans:\n",
        "            return\n",
        "        for k in range(4):\n",
        "            ny = x + dx[k]\n",
        "            ny = y + dy[k]\n",
        "            if is_valid_coord(ny, nx) and not chk[ny][nx]:\n",
        "                chk[ny][nx] = True\n",
        "                q.append(ny, nx)"
      ]
    },
    {
      "cell_type": "markdown",
      "source": [
        "#문제풀이"
      ],
      "metadata": {
        "id": "NJoK1YUYIFwh"
      }
    },
    {
      "cell_type": "markdown",
      "source": [
        "###11724번 / 연결 요소의 개수"
      ],
      "metadata": {
        "id": "wPVo4J3VIJ2o"
      }
    },
    {
      "cell_type": "code",
      "source": [
        "import sys\n",
        "sys.setrecursionlimit(10**6) # 재귀호출 횟수 제한 늘리기\n",
        "input = sys.stdin.readline\n",
        "N, M = map(int, input().split())\n",
        "\n",
        "adj = [[False]*(N+1) for _ in range(N+1)]\n",
        "for _ in range(M):\n",
        "    u, v = map(int, input().split())\n",
        "    adj[u][v] = True\n",
        "    adj[v][u] = True        # 무방향 그래프이므로 대칭행렬\n",
        "\n",
        "ans = 0\n",
        "chk = [False] * (N+1)\n",
        "\n",
        "def dfs(i):\n",
        "    for j in range(1,N+1):\n",
        "        if adj[i][j] and not chk[j]: # 한 번도 체크 못했던 Edge를 발견하면\n",
        "            chk[j] = True            # 그 Edge를 타고 내려가서\n",
        "            dfs(j)                   # 체크 안했던 노드에 대해서 재귀함수 호출\n",
        "                                     # 계속해서 재귀함수를 호출하게 되면 가장 깊은 노드까지 들어가게됨\n",
        "                                     # 제일 깊은 노드에서는 더 이상 갈 곳이 없으니까 재귀함수 탈출 후 기존 for문으로 복귀\n",
        "\n",
        "for i in range(1, N+1):\n",
        "    if not chk[i]:      # 체크 안한 노드라면\n",
        "        ans += 1        # 연결 요소의 개수 +1\n",
        "        chk[i] = True   # 체크 했다고 표시\n",
        "        dfs(i)          # 체크 안한 노드에 대해서 dfs함수 호출\n",
        "\n",
        "print(ans)"
      ],
      "metadata": {
        "id": "ygAPs2KRYnJ1"
      },
      "execution_count": null,
      "outputs": []
    },
    {
      "cell_type": "markdown",
      "source": [
        "##2178번 / 미로 탐색"
      ],
      "metadata": {
        "id": "nHCA16sJbnYd"
      }
    },
    {
      "cell_type": "markdown",
      "source": [
        "BFS를 이용하니까 각 계층에서 이동할 수 있는 모든 경우의 수를 구해서 큐에 넣어놓고 하나씩 빼면서 다음 계층에 대한 탐색이 이루어진다. </br> 먼저 root에 도달했다면 같은 시도 횟수이지만 먼저 도달한 것. 따라서 최단거리를 구하기 위해서는 BFS를 쓰는것이 맞다."
      ],
      "metadata": {
        "id": "cshB3DgpnvC9"
      }
    },
    {
      "cell_type": "code",
      "source": [
        "from collections import deque\n",
        "\n",
        "dy = (0, 1, 0, -1)\n",
        "dx = (1, 0, -1, 0)\n",
        "\n",
        "N, M = map(int, input().split())\n",
        "board = [input() for _ in range(N)] # 미로 지도를 그래도 str로 받기\n",
        "chk = [[False]*M for _ in range(N)] # 방문 체크를 위한 행렬 만들기\n",
        "dq = deque()\n",
        "dq.append((0, 0, 1))\n",
        "chk[0][0] = True\n",
        "\n",
        "def is_valid_coord(y, x):\n",
        "    return 0<=y<N and 0<=x<M\n",
        "\n",
        "while len(dq) > 0:\n",
        "    y, x, d = dq.popleft()\n",
        "\n",
        "    if y == N-1 and x == M-1:\n",
        "        print(d)\n",
        "        break\n",
        "\n",
        "    for i in range(4):\n",
        "        ny = y + dy[i]\n",
        "        nx = x + dx[i]\n",
        "        if board[ny][nx] == '1' and not chk[ny][nx] and is_valid_coord(ny, nx):\n",
        "            chk[ny][nx] = True\n",
        "            dq.append((ny, nx, d+1))"
      ],
      "metadata": {
        "id": "lqv6-I01bmc8"
      },
      "execution_count": null,
      "outputs": []
    },
    {
      "cell_type": "markdown",
      "source": [
        "##1987번 / 알파벳"
      ],
      "metadata": {
        "id": "u8U1Lvgz3XZK"
      }
    },
    {
      "cell_type": "markdown",
      "source": [
        "chk을 만들면 안되는거다..\n"
      ],
      "metadata": {
        "id": "mPO_fK3gD8Xh"
      }
    },
    {
      "cell_type": "code",
      "source": [
        "from collections import deque\n",
        "\n",
        "R, C = map(int, input().split())\n",
        "board = [input() for _ in range(R)]\n",
        "dq = deque()\n",
        "\n",
        "dy = (0, -1, 0, 1)\n",
        "dx = (1, 0, -1, 0)\n",
        "dq.append((0,0,1))\n",
        "chk = [board[0][0]]\n",
        "result = 0\n",
        "def is_valid_coord(ny, nx):\n",
        "    return 0<=ny<R and 0<=nx<C\n",
        "\n",
        "while len(dq) > 0:\n",
        "    y, x, ans = dq.popleft()\n",
        "    result = max(result, ans)\n",
        "\n",
        "    for i in range(4):\n",
        "        ny = y + dy[i]\n",
        "        nx = x + dx[i]\n",
        "        if is_valid_coord(ny, nx) and board[ny][nx] not in chk:\n",
        "            ans+=1\n",
        "            dq.append((ny, nx, ans))\n",
        "            chk.append(board[ny][nx])\n",
        "print(result)"
      ],
      "metadata": {
        "colab": {
          "base_uri": "https://localhost:8080/"
        },
        "id": "BYjRqIowvfk0",
        "outputId": "2e6daf7e-2a74-4e7b-c2e3-fc1433dfb0f1"
      },
      "execution_count": 15,
      "outputs": [
        {
          "output_type": "stream",
          "name": "stdout",
          "text": [
            "3 6\n",
            "HFDFFB\n",
            "AJHGDH\n",
            "DGAGEH\n",
            "5\n"
          ]
        }
      ]
    },
    {
      "cell_type": "code",
      "source": [
        "from collections import deque\n",
        "\n",
        "R, C = map(int, input().split())\n",
        "board = [input() for _ in range(R)]\n",
        "dq = deque()\n",
        "\n",
        "dy = (0, -1, 0, 1)\n",
        "dx = (1, 0, -1, 0)\n",
        "chk = [[set() for _ in range(C)] for _ in range(R)]\n",
        "chk[0][0].add(board[0][0])\n",
        "dq.append((0,0,board[0][0]))\n",
        "\n",
        "result = 0\n",
        "\n",
        "def is_valid_coord(ny, nx):\n",
        "    return 0<=ny<R and 0<=nx<C\n",
        "\n",
        "while dq:\n",
        "    y, x, s = dq.popleft()\n",
        "    result = max(result, len(s))\n",
        "\n",
        "    for i in range(4):\n",
        "        ny = y + dy[i]\n",
        "        nx = x + dx[i]\n",
        "        if is_valid_coord(ny, nx) and board[ny][nx] not in s:\n",
        "            ns = s + board[ny][nx]\n",
        "            if ns not in chk[ny][nx]:\n",
        "              chk[ny][nx].add(ns)\n",
        "              dq.append((ny, nx, ns))\n",
        "\n",
        "    if result == 26:\n",
        "        break\n",
        "print(result)"
      ],
      "metadata": {
        "colab": {
          "base_uri": "https://localhost:8080/"
        },
        "id": "ERv3_BVZEA_9",
        "outputId": "8621e2a9-b102-4fc1-b4e1-ad21b71e2611"
      },
      "execution_count": 16,
      "outputs": [
        {
          "output_type": "stream",
          "name": "stdout",
          "text": [
            "3 6\n",
            "HFDFFB\n",
            "AJHGDH\n",
            "DGAGEH\n",
            "6\n"
          ]
        }
      ]
    },
    {
      "cell_type": "code",
      "source": [
        "from collections import deque\n",
        "\n",
        "N, M, T = map(int, input().split())\n",
        "board = [[False]*(M+1) for _ in range(N+1)]\n",
        "\n",
        "for _ in range(T):\n",
        "  r, c = map(int, input().split())\n",
        "  board[r][c] = True\n",
        "\n",
        "dq = deque()\n",
        "result = 0\n",
        "dy = (0, 1, 0, -1)\n",
        "dx = (1, 0, -1, 0)\n",
        "\n",
        "def is_valid(ny, nx) :\n",
        "  return 1<=ny<N+1 and 1<=nx<M+1\n",
        "\n",
        "for y in range(1,N+1):\n",
        "  for x in range(1,M+1):\n",
        "    if board[y][x] == True:\n",
        "      board[y][x] = False\n",
        "      t_sum = 1\n",
        "      for i in range(4):\n",
        "        ny = y + dy[i]\n",
        "        nx = x + dx[i]\n",
        "        if is_valid(ny, nx) and board[ny][nx]:\n",
        "          board[ny][nx] = False\n",
        "          dq.append((ny, nx))\n",
        "          t_sum += 1\n",
        "      while dq:\n",
        "        y, x = dq.popleft()\n",
        "        for i in range(4):\n",
        "          ny = y + dy[i]\n",
        "          nx = x + dx[i]\n",
        "          if is_valid(ny, nx) and board[ny][nx]:\n",
        "            board[ny][nx] = False\n",
        "            dq.append((ny, nx))\n",
        "            t_sum += 1\n",
        "      result = max(result, t_sum)\n",
        "print(result)"
      ],
      "metadata": {
        "id": "XitQH3S0Q6PV"
      },
      "execution_count": null,
      "outputs": []
    },
    {
      "cell_type": "code",
      "source": [
        "from collections import deque\n",
        "\n",
        "dy = (2, 1, -1, -2, -2, -1, 1, 2)\n",
        "dx = (1, 2, 2, 1, -1, -2, -2, -1)\n",
        "\n",
        "def is_valid_coord(ny, nx):\n",
        "  return 0<=ny<N and 0<=nx<N\n",
        "\n",
        "def is_correct(ny, nx):\n",
        "  return ny == fut_y and nx == fut_x\n",
        "\n",
        "for _ in range(int(input())):\n",
        "  N = int(input())\n",
        "  now_y, now_x = map(int, input().split())\n",
        "  fut_y, fut_x = map(int, input().split())\n",
        "\n",
        "  dq = deque()\n",
        "  plz_stop = 0\n",
        "  chk = [[False]*N for _ in range(N)]\n",
        "  chk[now_y][now_x] = True\n",
        "  \n",
        "  if now_y == fut_y and now_x == fut_x:\n",
        "    print(0)\n",
        "    continue\n",
        "\n",
        "  for i in range(8):\n",
        "    ny = now_y + dy[i]\n",
        "    nx = now_x + dx[i]\n",
        "    if is_valid_coord(ny, nx):\n",
        "      chk[ny][nx] = True\n",
        "      dq.append((ny, nx, 1))\n",
        "\n",
        "  while not(plz_stop):\n",
        "    now_y, now_x, j = dq.popleft()\n",
        "    for i in range(8):\n",
        "      ny = now_y + dy[i]\n",
        "      nx = now_x + dx[i]\n",
        "      nj = j     + 1\n",
        "      if is_correct(ny, nx):\n",
        "        print(nj)\n",
        "        plz_stop = True\n",
        "      elif is_valid_coord(ny, nx) and chk[ny][nx]==False:\n",
        "        chk[ny][nx] = True\n",
        "        dq.append((ny, nx, nj))"
      ],
      "metadata": {
        "id": "S_x7JO1E1VGR"
      },
      "execution_count": null,
      "outputs": []
    }
  ]
}