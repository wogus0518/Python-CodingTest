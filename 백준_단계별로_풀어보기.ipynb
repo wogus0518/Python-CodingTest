{
  "nbformat": 4,
  "nbformat_minor": 0,
  "metadata": {
    "colab": {
      "name": "백준_단계별로_풀어보기.ipynb",
      "provenance": [],
      "toc_visible": true,
      "authorship_tag": "ABX9TyP8Bb+irM3S1Sm1AcWl7mjy",
      "include_colab_link": true
    },
    "kernelspec": {
      "name": "python3",
      "display_name": "Python 3"
    },
    "language_info": {
      "name": "python"
    }
  },
  "cells": [
    {
      "cell_type": "markdown",
      "metadata": {
        "id": "view-in-github",
        "colab_type": "text"
      },
      "source": [
        "<a href=\"https://colab.research.google.com/github/wogus0518/Python-CodingTest/blob/main/%EB%B0%B1%EC%A4%80_%EB%8B%A8%EA%B3%84%EB%B3%84%EB%A1%9C_%ED%92%80%EC%96%B4%EB%B3%B4%EA%B8%B0.ipynb\" target=\"_parent\"><img src=\"https://colab.research.google.com/assets/colab-badge.svg\" alt=\"Open In Colab\"/></a>"
      ]
    },
    {
      "cell_type": "markdown",
      "source": [
        "# 백준 단계별로 풀어보기"
      ],
      "metadata": {
        "id": "r1afAIBKUyBL"
      }
    },
    {
      "cell_type": "markdown",
      "source": [
        "## if문"
      ],
      "metadata": {
        "id": "d0j-OAV3UyVh"
      }
    },
    {
      "cell_type": "code",
      "source": [
        "#9498 시험 성적\n",
        "score = int(input())\n",
        "if score >= 90 : print(\"A\")\n",
        "elif score >= 80 : print(\"B\")\n",
        "elif score >= 70 : print(\"C\")\n",
        "elif score >= 60 : print(\"D\")\n",
        "else : print(\"F\")"
      ],
      "metadata": {
        "colab": {
          "base_uri": "https://localhost:8080/"
        },
        "id": "bKnIVHkk5ZCi",
        "outputId": "e1e34170-3225-48e8-9fe9-e4c81b8d5db5"
      },
      "execution_count": 32,
      "outputs": [
        {
          "output_type": "stream",
          "name": "stdout",
          "text": [
            "89\n",
            "B\n"
          ]
        }
      ]
    },
    {
      "cell_type": "code",
      "execution_count": 29,
      "metadata": {
        "colab": {
          "base_uri": "https://localhost:8080/"
        },
        "id": "etl3bTH3s_b4",
        "outputId": "13a10550-007d-4d0c-ec9d-7b36f66496f7"
      },
      "outputs": [
        {
          "output_type": "stream",
          "name": "stdout",
          "text": [
            "1999\n",
            "0\n"
          ]
        }
      ],
      "source": [
        "#2753 윤년\n",
        "year = int(input())\n",
        "if (year%4==0 and year%100!=0) or year%400==0 : print(1)\n",
        "else: print(0)"
      ]
    },
    {
      "cell_type": "code",
      "source": [
        "#14681 사분면 고르기\n",
        "x = int(input())\n",
        "y = int(input())\n",
        "if x>0:\n",
        "    if y>0: print(1)\n",
        "    elif y<0: print(4)\n",
        "elif x<0:\n",
        "    if y>0: print(2)\n",
        "    elif y<0: print(3)"
      ],
      "metadata": {
        "colab": {
          "base_uri": "https://localhost:8080/"
        },
        "id": "ioF9OklGDV-N",
        "outputId": "a323e93f-35b7-45d7-b495-0cca05a41af4"
      },
      "execution_count": 34,
      "outputs": [
        {
          "output_type": "stream",
          "name": "stdout",
          "text": [
            "9\n",
            "-13\n",
            "4\n"
          ]
        }
      ]
    },
    {
      "cell_type": "code",
      "source": [
        "#2884 알람 시계\n",
        "h, m = map(int, input().split())\n",
        "\n",
        "if m-45>=0 :  print(h,m-45)\n",
        "elif m-45<0:\n",
        "  if h-1<0: print(24+h-1, 60+m-45)\n",
        "  else:  print(h-1, 60+m-45)"
      ],
      "metadata": {
        "colab": {
          "base_uri": "https://localhost:8080/"
        },
        "id": "WKKa2_ZwEEy1",
        "outputId": "743d445e-f97e-4b8d-dec6-32586145bf71"
      },
      "execution_count": 41,
      "outputs": [
        {
          "output_type": "stream",
          "name": "stdout",
          "text": [
            "23 40\n",
            "22 55\n"
          ]
        }
      ]
    },
    {
      "cell_type": "markdown",
      "source": [
        "##for문"
      ],
      "metadata": {
        "id": "5xaocHbKVPEu"
      }
    },
    {
      "cell_type": "code",
      "source": [
        "#2739 구구단\n",
        "n = int(input())\n",
        "\n",
        "for i in range(1,10):\n",
        "  print(f'{n} * {i} = {n*i}')"
      ],
      "metadata": {
        "colab": {
          "base_uri": "https://localhost:8080/"
        },
        "id": "qoD9zyeFE4oc",
        "outputId": "8a9f7875-5c14-493a-b5c9-133bd9ba6807"
      },
      "execution_count": 43,
      "outputs": [
        {
          "output_type": "stream",
          "name": "stdout",
          "text": [
            "2\n",
            "2 * 1 = 2\n",
            "2 * 2 = 4\n",
            "2 * 3 = 6\n",
            "2 * 4 = 8\n",
            "2 * 5 = 10\n",
            "2 * 6 = 12\n",
            "2 * 7 = 14\n",
            "2 * 8 = 16\n",
            "2 * 9 = 18\n"
          ]
        }
      ]
    },
    {
      "cell_type": "code",
      "source": [
        "#8393 합\n",
        "n= int(input())\n",
        "result = 0\n",
        "for i in range(1,n+1):\n",
        "    result += i\n",
        "print(result)"
      ],
      "metadata": {
        "colab": {
          "base_uri": "https://localhost:8080/"
        },
        "id": "6G9gnDibIEWO",
        "outputId": "edcdd463-5b79-4b96-e1e9-da4d0990702b"
      },
      "execution_count": 46,
      "outputs": [
        {
          "output_type": "stream",
          "name": "stdout",
          "text": [
            "3\n",
            "6\n"
          ]
        }
      ]
    },
    {
      "cell_type": "code",
      "source": [
        "#15552 빠른 A+B\n",
        "import sys\n",
        "\n",
        "n = int(input())\n",
        "\n",
        "for _ in range(n):\n",
        "  a, b = map(int, sys.stdin.readline().split())\n",
        "  print(a+b)"
      ],
      "metadata": {
        "id": "gtSBjMVLJIDJ"
      },
      "execution_count": null,
      "outputs": []
    },
    {
      "cell_type": "code",
      "source": [
        "#2742 기찍N\n",
        "n = int(input())\n",
        "a = range(1,n+1)[::-1]\n",
        "for i in a:\n",
        "  print(i)"
      ],
      "metadata": {
        "colab": {
          "base_uri": "https://localhost:8080/"
        },
        "id": "SO0mKPW3N71y",
        "outputId": "126362e9-09b4-46b4-97a5-63adab6069ce"
      },
      "execution_count": 64,
      "outputs": [
        {
          "output_type": "stream",
          "name": "stdout",
          "text": [
            "5\n",
            "5\n",
            "4\n",
            "3\n",
            "2\n",
            "1\n"
          ]
        }
      ]
    },
    {
      "cell_type": "code",
      "source": [
        "#11022 A+B -8\n",
        "n = int(input())\n",
        "for i in range(n):\n",
        "  a, b = map(int, input().split())\n",
        "  print(f\"Case #{i+1}: {a} + {b} = {a+b}\")"
      ],
      "metadata": {
        "colab": {
          "base_uri": "https://localhost:8080/"
        },
        "id": "2yC25h_cOmgT",
        "outputId": "187a5c66-6fa2-421b-ef2b-67871e06dd8d"
      },
      "execution_count": 65,
      "outputs": [
        {
          "output_type": "stream",
          "name": "stdout",
          "text": [
            "5\n",
            "1 1\n",
            "Case #1: 2\n",
            "2 3\n",
            "Case #2: 5\n",
            "3 4\n",
            "Case #3: 7\n",
            "9 8\n",
            "Case #4: 17\n",
            "5 2\n",
            "Case #5: 7\n"
          ]
        }
      ]
    },
    {
      "cell_type": "code",
      "source": [
        "#2439 별 찍기-2\n",
        "n = int(input())\n",
        "for i in range(1,n+1):\n",
        "  print(f\"{('*'*i).rjust(n)}\")"
      ],
      "metadata": {
        "colab": {
          "base_uri": "https://localhost:8080/"
        },
        "id": "meNIARREQi80",
        "outputId": "1df25064-9e40-4275-ac50-5bce6c119e0b"
      },
      "execution_count": 68,
      "outputs": [
        {
          "output_type": "stream",
          "name": "stdout",
          "text": [
            "5\n",
            "    *\n",
            "   **\n",
            "  ***\n",
            " ****\n",
            "*****\n"
          ]
        }
      ]
    },
    {
      "cell_type": "code",
      "source": [
        "#10871 X보다 작은 수\n",
        "n, x = map(int, input().split())\n",
        "a_list = list(map(int, input().split()))\n",
        "result = []\n",
        "for a in a_list:\n",
        "    if a<x:\n",
        "      result.append(a)\n",
        "for i in result:\n",
        "  print(i)"
      ],
      "metadata": {
        "colab": {
          "base_uri": "https://localhost:8080/"
        },
        "id": "NmeyBlZnRGuC",
        "outputId": "94e1c9f3-b624-464d-96ae-282e67dbad32"
      },
      "execution_count": 69,
      "outputs": [
        {
          "output_type": "stream",
          "name": "stdout",
          "text": [
            "10 5\n",
            "1 10 4 9 2 3 8 5 7 6\n",
            "1\n",
            "4\n",
            "2\n",
            "3\n"
          ]
        }
      ]
    },
    {
      "cell_type": "markdown",
      "source": [
        "##while문"
      ],
      "metadata": {
        "id": "sMREnSEJV1fd"
      }
    },
    {
      "cell_type": "code",
      "source": [
        "#10952 A+B -5\n",
        "while True:\n",
        "  a, b = map(int, input().split())\n",
        "  if a==0 and b==0:\n",
        "    break\n",
        "  else:  print(a+b)"
      ],
      "metadata": {
        "colab": {
          "base_uri": "https://localhost:8080/"
        },
        "id": "RIAlgbXQTUw0",
        "outputId": "ac317f25-27b8-48b3-c15f-0bed9dbbd582"
      },
      "execution_count": 70,
      "outputs": [
        {
          "name": "stdout",
          "output_type": "stream",
          "text": [
            "1 1\n",
            "2\n",
            " 2 3\n",
            "5\n",
            "0 0\n"
          ]
        }
      ]
    },
    {
      "cell_type": "code",
      "source": [
        "#10952 A+B -4\n",
        "while True:\n",
        "  try:\n",
        "    a, b = map(int, input().split())\n",
        "  except:\n",
        "    break\n",
        "  print(a+b)"
      ],
      "metadata": {
        "colab": {
          "base_uri": "https://localhost:8080/"
        },
        "id": "W3mt8qG0WNQf",
        "outputId": "6957d865-c2e3-45fc-c006-4c3cff1ef61a"
      },
      "execution_count": 71,
      "outputs": [
        {
          "name": "stdout",
          "output_type": "stream",
          "text": [
            "1 1\n",
            "2\n",
            "2 3\n",
            "5\n",
            "0 1\n"
          ]
        }
      ]
    },
    {
      "cell_type": "code",
      "source": [
        "#1110 더하기 사이클\n",
        "n = input()\n",
        "if int(n)<10:\n",
        "  n = str(0) + n\n",
        "first = n\n",
        "cnt=0\n",
        "while True:\n",
        "  new = n[1] + str(int(n[0]) + int(n[1]))[-1]\n",
        "  cnt += 1\n",
        "  if first == new:\n",
        "    break\n",
        "  else:\n",
        "    n = new\n",
        "print(cnt)\n"
      ],
      "metadata": {
        "colab": {
          "base_uri": "https://localhost:8080/"
        },
        "id": "Ki9MXhVbZuQw",
        "outputId": "1d99aa9e-f9a3-4013-be15-f0e0a03367e5"
      },
      "execution_count": 92,
      "outputs": [
        {
          "output_type": "stream",
          "name": "stdout",
          "text": [
            "26\n",
            "4\n"
          ]
        }
      ]
    },
    {
      "cell_type": "markdown",
      "source": [
        "##1차원 배열"
      ],
      "metadata": {
        "id": "o49o_Ryyf8lS"
      }
    },
    {
      "cell_type": "code",
      "source": [
        "#10818 최소, 최대\n",
        "n= int(input())\n",
        "data = list(map(int, input().split()))\n",
        "print(min(data), max(data))"
      ],
      "metadata": {
        "colab": {
          "base_uri": "https://localhost:8080/"
        },
        "id": "pg4nhGRIbYYb",
        "outputId": "35f19220-5d15-4079-96d8-8b4d92d0dc72"
      },
      "execution_count": 94,
      "outputs": [
        {
          "output_type": "stream",
          "name": "stdout",
          "text": [
            "5\n",
            "10 20 35 1 50\n",
            "1 50\n"
          ]
        }
      ]
    },
    {
      "cell_type": "code",
      "source": [
        "#2562 최댓값\n",
        "data = list()\n",
        "for _ in range(9):\n",
        "  data.append(int(input()))\n",
        "cnt = 0\n",
        "for i in data:\n",
        "  if i == max(data):\n",
        "    break\n",
        "  else: cnt+=1\n",
        "print(max(data), cnt+1)\n",
        "# index 내장함수 이용\n",
        "# print(data.index(max(data))+1)"
      ],
      "metadata": {
        "colab": {
          "base_uri": "https://localhost:8080/"
        },
        "id": "kHoA6LJHgPku",
        "outputId": "303f4fd4-bee6-4649-a428-af00b46e416a"
      },
      "execution_count": 96,
      "outputs": [
        {
          "output_type": "stream",
          "name": "stdout",
          "text": [
            "3\n",
            "29\n",
            "38\n",
            "12\n",
            "57\n",
            "74\n",
            "40\n",
            "85\n",
            "61\n",
            "85 7\n"
          ]
        }
      ]
    },
    {
      "cell_type": "code",
      "source": [
        "#2577 숫자의 개수\n",
        "a = int(input())\n",
        "b = int(input())\n",
        "c = int(input())\n",
        "a = a*b*c\n",
        "a = list(str(a))\n",
        "for i in range(10):\n",
        "  print(a.count(str(i)))"
      ],
      "metadata": {
        "colab": {
          "base_uri": "https://localhost:8080/"
        },
        "id": "UUkoNbyAhaF4",
        "outputId": "1770c985-f85b-4d3e-e84f-032afd779fff"
      },
      "execution_count": 100,
      "outputs": [
        {
          "output_type": "stream",
          "name": "stdout",
          "text": [
            "150\n",
            "266\n",
            "427\n",
            "3\n",
            "1\n",
            "0\n",
            "2\n",
            "0\n",
            "0\n",
            "0\n",
            "2\n",
            "0\n",
            "0\n"
          ]
        }
      ]
    },
    {
      "cell_type": "code",
      "source": [
        "#3052 나머지\n",
        "data = []\n",
        "for _ in range(10):\n",
        "  data.append(int(input()) % 42)\n",
        "data = set(data)\n",
        "print(len(data))"
      ],
      "metadata": {
        "colab": {
          "base_uri": "https://localhost:8080/"
        },
        "id": "fDOLiJPdmBoW",
        "outputId": "c7942933-c51c-45d1-e1b5-c48f25cbfe49"
      },
      "execution_count": 102,
      "outputs": [
        {
          "output_type": "stream",
          "name": "stdout",
          "text": [
            "39\n",
            "40\n",
            "41\n",
            "42\n",
            "43\n",
            "44\n",
            "82\n",
            "83\n",
            "84\n",
            "85\n",
            "6\n"
          ]
        }
      ]
    },
    {
      "cell_type": "code",
      "source": [
        "#1546 평균\n",
        "n = int(input())\n",
        "score_list = list(map(int, input().split()))\n",
        "\n",
        "highest = max(score_list)\n",
        "new_score_list = []\n",
        "for score in score_list:\n",
        "    new_score_list.append(score/highest*100)\n",
        "print(sum(new_score_list)/n)"
      ],
      "metadata": {
        "colab": {
          "base_uri": "https://localhost:8080/"
        },
        "id": "VrBn3doCmbYm",
        "outputId": "20c125c9-3a29-4017-e0f1-7c11804ff006"
      },
      "execution_count": 105,
      "outputs": [
        {
          "output_type": "stream",
          "name": "stdout",
          "text": [
            "3\n",
            "40 80 60\n",
            "75.0\n"
          ]
        }
      ]
    },
    {
      "cell_type": "code",
      "source": [
        "#8958 OX퀴즈\n",
        "n = int(input())\n",
        "for _ in range(n):\n",
        "  data = list(input())\n",
        "  score = 0\n",
        "  count = 0\n",
        "  for ans in data:\n",
        "    if ans == 'O':\n",
        "      count+=1\n",
        "    elif ans == 'X':\n",
        "      count=0\n",
        "    score += count\n",
        "  print(score)"
      ],
      "metadata": {
        "colab": {
          "base_uri": "https://localhost:8080/"
        },
        "id": "UJWFcX_lnadf",
        "outputId": "38e44203-1d3f-4470-bfbe-7a8987fe0958"
      },
      "execution_count": 106,
      "outputs": [
        {
          "output_type": "stream",
          "name": "stdout",
          "text": [
            "5\n",
            "OOXXOXXOOO\n",
            "10\n",
            "OOXXOOXXOO\n",
            "9\n",
            "OXOXOXOXOXOXOX\n",
            "7\n",
            "OOOOOOOOOO\n",
            "55\n",
            "OOOOXOOOOXOOOOX\n",
            "30\n"
          ]
        }
      ]
    },
    {
      "cell_type": "code",
      "source": [
        "#4344 평균은 넘겠지\n",
        "n = int(input())\n",
        "for _ in range(n):\n",
        "  data = list(map(int, input().split()))\n",
        "  data = data[1:]\n",
        "  avg = sum(data)/len(data)\n",
        "  count = 0\n",
        "  for score in data:\n",
        "    if score>avg:\n",
        "      count += 1\n",
        "  result = count/len(data)*100\n",
        "  print(\"{0:.3f}%\".format(result))"
      ],
      "metadata": {
        "colab": {
          "base_uri": "https://localhost:8080/"
        },
        "id": "dWx0VmqbpIYm",
        "outputId": "4ccd1fc8-6cb1-4cfa-d275-075063f1987e"
      },
      "execution_count": 112,
      "outputs": [
        {
          "output_type": "stream",
          "name": "stdout",
          "text": [
            "5\n",
            "5 50 50 70 80 100\n",
            "40.000%\n",
            "7 100 95 90 80 70 60 50\n",
            "57.143%\n",
            "3 70 90 80\n",
            "33.333%\n",
            "3 70 90 81\n",
            "66.667%\n",
            "9 100 99 98 97 96 95 94 93 91\n",
            "55.556%\n"
          ]
        }
      ]
    },
    {
      "cell_type": "markdown",
      "source": [
        "##함수"
      ],
      "metadata": {
        "id": "LWp7mqqPFrjU"
      }
    },
    {
      "cell_type": "code",
      "source": [
        "#4673 셀프 넘버\n",
        "def d(n):\n",
        "  sum = 0\n",
        "  for num in list(n):\n",
        "    sum += int(num)\n",
        "  return sum + int(n)\n",
        "\n",
        "hall_list = []\n",
        "for i in range(1,10001):\n",
        "  hall_list.append(d(str(i)))\n",
        "b = set(hall_list)\n",
        "a = set(range(1,10001))\n",
        "result = a - b\n",
        "result = sorted(result)  \n",
        "for i in result:\n",
        "  print(i)\n",
        "  "
      ],
      "metadata": {
        "id": "TJCsFpRjrSRd"
      },
      "execution_count": null,
      "outputs": []
    },
    {
      "cell_type": "code",
      "source": [
        "#1065 한수\n",
        "def d(n):\n",
        "  count = 0\n",
        "  array = [int(i) for i in str(n)]\n",
        "  if len(array)<=2:\n",
        "    count+=1\n",
        "  else:\n",
        "    delta1 = array[0] - array[1]\n",
        "    delta2 = array[1] - array[2]\n",
        "    if delta1==delta2:\n",
        "      count += 1\n",
        "  return count\n",
        "\n",
        "n = int(input())\n",
        "result = 0\n",
        "for i in range(1,n+1):\n",
        "  result += d(i)\n",
        "print(result)"
      ],
      "metadata": {
        "colab": {
          "base_uri": "https://localhost:8080/"
        },
        "id": "de-QEo8zFgWW",
        "outputId": "f9bfe172-0d23-4102-d5b6-0146305a8432"
      },
      "execution_count": 131,
      "outputs": [
        {
          "output_type": "stream",
          "name": "stdout",
          "text": [
            "1000\n",
            "144\n"
          ]
        }
      ]
    },
    {
      "cell_type": "markdown",
      "source": [
        "##문자열"
      ],
      "metadata": {
        "id": "2GVpRdw0F37B"
      }
    },
    {
      "cell_type": "code",
      "source": [
        "#11654 아스키 코드\n",
        "n = input()\n",
        "print(ord(n))"
      ],
      "metadata": {
        "colab": {
          "base_uri": "https://localhost:8080/"
        },
        "id": "f7eG1GDhSYs3",
        "outputId": "808659ed-798d-4f33-8f15-ca008e56c886"
      },
      "execution_count": 132,
      "outputs": [
        {
          "output_type": "stream",
          "name": "stdout",
          "text": [
            "a\n",
            "97\n"
          ]
        }
      ]
    },
    {
      "cell_type": "code",
      "source": [
        "#11720 숫자의 합\n",
        "n = int(input())\n",
        "data = [int(n) for n in list(str(n))]\n",
        "sum=0\n",
        "for i in data:\n",
        "  sum += i\n",
        "print(sum)"
      ],
      "metadata": {
        "colab": {
          "base_uri": "https://localhost:8080/"
        },
        "id": "aetAqJIASy1-",
        "outputId": "f48061ed-73cb-4486-9385-af64987cc1e4"
      },
      "execution_count": 133,
      "outputs": [
        {
          "output_type": "stream",
          "name": "stdout",
          "text": [
            "10987654321\n",
            "46\n"
          ]
        }
      ]
    },
    {
      "cell_type": "code",
      "source": [
        "# 알파벳 찾기 다른 버전\n",
        "result_array = [-1]*26\n",
        "\n",
        "input_data = list(input())\n",
        "for data in input_data:\n",
        "  num = ord(data)-ord('a')\n",
        "  result_array[num]+=1\n",
        "print(result_array)"
      ],
      "metadata": {
        "colab": {
          "base_uri": "https://localhost:8080/"
        },
        "id": "3xWrEFsvTR_x",
        "outputId": "59641cf8-6209-4a61-b369-3d76fb4aaab9"
      },
      "execution_count": 139,
      "outputs": [
        {
          "output_type": "stream",
          "name": "stdout",
          "text": [
            "baekjoon\n",
            "[0, 0, -1, -1, 0, -1, -1, -1, -1, 0, 0, -1, -1, 0, 1, -1, -1, -1, -1, -1, -1, -1, -1, -1, -1, -1]\n"
          ]
        }
      ]
    },
    {
      "cell_type": "code",
      "source": [
        "#10809 알파벳 찾기\n",
        "result_array = [-1]*26\n",
        "\n",
        "input_data = list(input())\n",
        "for data in input_data:\n",
        "  num = ord(data)-ord('a')\n",
        "  result_array[num]=input_data.index(data)\n",
        "result = [str(i) for i in result_array]\n",
        "result = ' '.join(result)\n",
        "print(result)"
      ],
      "metadata": {
        "colab": {
          "base_uri": "https://localhost:8080/"
        },
        "id": "7KuNUcW1UXHF",
        "outputId": "8506114c-8cdc-4c95-8411-e9f546db9cb3"
      },
      "execution_count": 145,
      "outputs": [
        {
          "output_type": "stream",
          "name": "stdout",
          "text": [
            "baekjoon\n",
            "1 0 -1 -1 2 -1 -1 -1 -1 4 3 -1 -1 7 5 -1 -1 -1 -1 -1 -1 -1 -1 -1 -1 -1\n"
          ]
        }
      ]
    },
    {
      "cell_type": "code",
      "source": [
        "#2675 문자열 반복\n",
        "n = int(input())\n",
        "for _ in range(n):\n",
        "  result=[]\n",
        "  time, string = input().split()\n",
        "  string_list = list(string)\n",
        "  for s in string_list:\n",
        "    for _ in range(int(time)):\n",
        "      result.append(s)\n",
        "  print(''.join(result))\n"
      ],
      "metadata": {
        "colab": {
          "base_uri": "https://localhost:8080/"
        },
        "id": "TP3g84-3V_hk",
        "outputId": "d9bafbb1-ef2a-41fc-934c-374569ebf042"
      },
      "execution_count": 149,
      "outputs": [
        {
          "output_type": "stream",
          "name": "stdout",
          "text": [
            "2\n",
            "3 3215\n",
            "333222111555\n",
            "5 :./$*+\n",
            ":::::...../////$$$$$*****+++++\n"
          ]
        }
      ]
    },
    {
      "cell_type": "code",
      "source": [
        "#1157 단어 공부\n",
        "\n",
        "word = input()\n",
        "if len(word)>1:\n",
        "  word = word.upper()\n",
        "  word_set = set(list(word))\n",
        "  word_dict = dict()\n",
        "\n",
        "  for w in word_set:\n",
        "    count = word.count(w)\n",
        "    word_dict[w] = count\n",
        "  word_dict = sorted(word_dict.items(), key=lambda x: x[1], reverse=True)\n",
        "\n",
        "  if word_dict[0][1] != word_dict[1][1]:\n",
        "    print(str(word_dict[0][0]))\n",
        "  else:\n",
        "    print(\"?\")\n",
        "else:\n",
        "  print(word.upper())"
      ],
      "metadata": {
        "colab": {
          "base_uri": "https://localhost:8080/"
        },
        "id": "byaBidJqY7D0",
        "outputId": "68830b65-c398-42c8-94ae-811975d43d9c"
      },
      "execution_count": 201,
      "outputs": [
        {
          "output_type": "stream",
          "name": "stdout",
          "text": [
            "d\n",
            "D\n"
          ]
        }
      ]
    },
    {
      "cell_type": "code",
      "source": [
        "#2908 상수\n",
        "left, right = map(int, input().split())\n",
        "left = int(str(left)[::-1])\n",
        "right = int(str(right)[::-1])\n",
        "if left > right: print(left)\n",
        "else: print(right)\n"
      ],
      "metadata": {
        "colab": {
          "base_uri": "https://localhost:8080/"
        },
        "id": "q5LHIBwpcq6N",
        "outputId": "88119338-c96e-45eb-8ff9-2e78e2d4a009"
      },
      "execution_count": 156,
      "outputs": [
        {
          "output_type": "stream",
          "name": "stdout",
          "text": [
            "734 893\n",
            "437\n"
          ]
        }
      ]
    },
    {
      "cell_type": "code",
      "source": [
        "#5622 다이얼\n",
        "# abc 3 / def 4 / ghi 5 / jkl 6 / mno 7 / pqrs 8 / tuv 9 / wxyz 10\n",
        "data = {\n",
        "    'A': 3, 'B': 3, 'C': 3,\n",
        "    'D': 4, 'E': 4, 'F': 4,\n",
        "    'G': 5, 'H': 5, 'I': 5,\n",
        "    'J': 6, 'K': 6, 'L': 6,\n",
        "    'M': 7, 'N': 7, 'O': 7,\n",
        "    'P': 8, 'Q': 8, 'R': 8, 'S' : 8,\n",
        "    'T': 9, 'U': 9, 'V': 9,\n",
        "    'W': 10, 'X': 10, 'Y': 10, 'Z' : 10\n",
        "}\n",
        "phone = list(input())\n",
        "time = 0\n",
        "if 2<=len(phone) and len(phone)<=15 :\n",
        "  for num in phone:\n",
        "    time += data[num]\n",
        "print(time)"
      ],
      "metadata": {
        "colab": {
          "base_uri": "https://localhost:8080/"
        },
        "id": "lIVDHT7wrSBX",
        "outputId": "e7ed068d-44aa-4d0f-a5d1-b3c85b4beda7"
      },
      "execution_count": 158,
      "outputs": [
        {
          "output_type": "stream",
          "name": "stdout",
          "text": [
            "UNUCIC\n",
            "36\n"
          ]
        }
      ]
    },
    {
      "cell_type": "code",
      "source": [
        "# 다른 방법\n",
        "dials = ['ABC', 'DEF', 'GHI', 'JKL', 'MNO', 'PQRS', 'TUV', 'WXYZ']\n",
        "phone = input()\n",
        "time = 0\n",
        "\n",
        "for p in phone:\n",
        "  for dial in dials:\n",
        "    if p in dial:\n",
        "      time += dials.index(dial) + 3\n",
        "print(time)"
      ],
      "metadata": {
        "colab": {
          "base_uri": "https://localhost:8080/"
        },
        "id": "ScbGcxNCuR70",
        "outputId": "e20c5334-1179-4efe-b831-96d90085c268"
      },
      "execution_count": 159,
      "outputs": [
        {
          "output_type": "stream",
          "name": "stdout",
          "text": [
            "UNUCIC\n",
            "36\n"
          ]
        }
      ]
    },
    {
      "cell_type": "code",
      "source": [
        "#2941 크로아티아 알파벳\n",
        "cro_alph = ['c=', 'c-', 'dz=', 'd-', 'lj', 'nj', 's=', 'z=']\n",
        "word = input()\n",
        "count=0\n",
        "for cro in cro_alph:\n",
        "  if cro in word:\n",
        "    count += word.count(cro)\n",
        "    word = word.replace(cro,\".\")\n",
        "word = word.replace(\".\",\"\")\n",
        "print(len(word)+count)"
      ],
      "metadata": {
        "colab": {
          "base_uri": "https://localhost:8080/"
        },
        "id": "t-Kwyqeevu8I",
        "outputId": "faa273ca-6934-4469-b36a-78038af44bf7"
      },
      "execution_count": 173,
      "outputs": [
        {
          "output_type": "stream",
          "name": "stdout",
          "text": [
            "nljj\n",
            "3\n"
          ]
        }
      ]
    },
    {
      "cell_type": "code",
      "source": [
        "#1316 그룹 단어 체커\n",
        "n=int(input())\n",
        "error=0\n",
        "for _ in range(n):\n",
        "\n",
        "  word = input()\n",
        "  if len(word) != 1:\n",
        "    for idx in range(len(word)):\n",
        "      try:\n",
        "        if word[idx] != word[idx+1]:\n",
        "          after = word[idx+1:]\n",
        "          if after.count(word[idx]) != 0:\n",
        "           error+=1\n",
        "           break\n",
        "      except:\n",
        "        pass\n",
        "\n",
        "print(n-error)"
      ],
      "metadata": {
        "colab": {
          "base_uri": "https://localhost:8080/"
        },
        "id": "1MOJBe7ZxV-D",
        "outputId": "c720cc4d-8857-48f4-d69d-1d01362a2379"
      },
      "execution_count": 190,
      "outputs": [
        {
          "output_type": "stream",
          "name": "stdout",
          "text": [
            "3\n",
            "happy\n",
            "new\n",
            "year\n",
            "3\n"
          ]
        }
      ]
    }
  ]
}