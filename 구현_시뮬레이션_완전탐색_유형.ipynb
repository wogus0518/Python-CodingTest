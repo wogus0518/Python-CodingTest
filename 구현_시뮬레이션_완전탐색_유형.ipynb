{
  "nbformat": 4,
  "nbformat_minor": 0,
  "metadata": {
    "colab": {
      "name": "구현_시뮬레이션_완전탐색_유형.ipynb",
      "provenance": [],
      "collapsed_sections": [],
      "toc_visible": true,
      "authorship_tag": "ABX9TyOMeCAco0i2z8RlKn76OGnD",
      "include_colab_link": true
    },
    "kernelspec": {
      "name": "python3",
      "display_name": "Python 3"
    },
    "language_info": {
      "name": "python"
    }
  },
  "cells": [
    {
      "cell_type": "markdown",
      "metadata": {
        "id": "view-in-github",
        "colab_type": "text"
      },
      "source": [
        "<a href=\"https://colab.research.google.com/github/wogus0518/Python-CodingTest/blob/main/%EA%B5%AC%ED%98%84_%EC%8B%9C%EB%AE%AC%EB%A0%88%EC%9D%B4%EC%85%98_%EC%99%84%EC%A0%84%ED%83%90%EC%83%89_%EC%9C%A0%ED%98%95.ipynb\" target=\"_parent\"><img src=\"https://colab.research.google.com/assets/colab-badge.svg\" alt=\"Open In Colab\"/></a>"
      ]
    },
    {
      "cell_type": "markdown",
      "source": [
        "# 구현\n",
        "- 풀이를 떠올리는 것은 쉽지만 소스코드로 옮기기 어려운 문제 유형\n",
        "  - 알고리즘은 간단한데 코드가 지나칠 만큼 길어지는 문제\n",
        "  - 실수 연산을 다루고, 특정 소수점 자리까지 출력해야 하는 문제\n",
        "  - 문자열을 특정한 기준에 따라서 끊어 처리해야 하는 문제\n",
        "  - 적절한 라이브러리를 찾아서 사용해야 하는 문제"
      ],
      "metadata": {
        "id": "tAYXv7Lo43gI"
      }
    },
    {
      "cell_type": "markdown",
      "source": [
        "##<문제> 상하좌우"
      ],
      "metadata": {
        "id": "ZwKCY99PAhgv"
      }
    },
    {
      "cell_type": "code",
      "execution_count": null,
      "metadata": {
        "colab": {
          "base_uri": "https://localhost:8080/"
        },
        "id": "GNbSzsGP4y-3",
        "outputId": "2af42427-d8a3-4d9a-9d93-e04e5279f8e8"
      },
      "outputs": [
        {
          "output_type": "stream",
          "name": "stdout",
          "text": [
            "5\n",
            "R R R U D D\n",
            "3 4\n"
          ]
        }
      ],
      "source": [
        "n = int(input())\n",
        "plans = input().split()\n",
        "x = 1\n",
        "y = 1\n",
        "\n",
        "# L R U D\n",
        "dx = [0, 0, -1, 1]\n",
        "dy = [-1, 1, 0, 0]\n",
        "dir = ['L', 'R', 'U', 'D']\n",
        "\n",
        "for plan in plans:\n",
        "  for idx in range(len(dir)):\n",
        "    if dir[idx] == plan:\n",
        "      nx = x + dx[idx]\n",
        "      ny = y + dy[idx]\n",
        "  if nx<1 or nx>n or ny<1 or ny>n :\n",
        "    continue\n",
        "  x = nx\n",
        "  y = ny\n",
        "print(x, y)\n"
      ]
    },
    {
      "cell_type": "markdown",
      "source": [
        "##<문제> 시각\n",
        "정수 N이 입력되면 00시00분00초부터 N시 59분 59초까지의 모든 시작 중에서 3이 하나라도 포함되는 모든 경우의 수를 구하는 프로그램을 작성하시오"
      ],
      "metadata": {
        "id": "-z-WLML7Asmi"
      }
    },
    {
      "cell_type": "code",
      "source": [
        "n = int(input())\n",
        "cnt = 0\n",
        "for h in range(n+1):\n",
        "    for m in range(60):\n",
        "        for s in range(60):\n",
        "            if '3' in (str(h)+str(m)+str(s)):\n",
        "                cnt += 1\n",
        "print(cnt)"
      ],
      "metadata": {
        "colab": {
          "base_uri": "https://localhost:8080/"
        },
        "id": "SzLYYzY-7B0K",
        "outputId": "6cde6832-1a2d-4f71-f49d-99ca86dd4538"
      },
      "execution_count": null,
      "outputs": [
        {
          "output_type": "stream",
          "name": "stdout",
          "text": [
            "5\n",
            "11475\n"
          ]
        }
      ]
    },
    {
      "cell_type": "markdown",
      "source": [
        "##<문제> 체스판\n",
        "체스판에서 임의의 지점의 나이트의 이동 가능한 모든 경우의 수를 계산하시오"
      ],
      "metadata": {
        "id": "lBBh6kb_KNAB"
      }
    },
    {
      "cell_type": "code",
      "source": [
        "e = {'a':1,    'b':2,     'c':3,     'd':4,     'e':5,     'f':6,     'g':7,     'h':8}\n",
        "loc = input()\n",
        "x = int(loc[1])\n",
        "y = e[loc[0]]\n",
        "\n",
        "# 1시 2시 4시 5시 7시 8시 10시 11시\n",
        "dx = [1, 2, 2, 1, -1, -2, -2, -1]\n",
        "dy = [-2, -1, 1, 2, 2, 1, -1, -2]\n",
        "count = 0\n",
        "\n",
        "for idx in range(len(dx)):\n",
        "    nx = x + dx[idx]\n",
        "    ny = y + dy[idx]\n",
        "    if nx<1 or ny<1 or nx>8 or ny>8:\n",
        "      continue\n",
        "    count += 1\n",
        "print(count)\n"
      ],
      "metadata": {
        "colab": {
          "base_uri": "https://localhost:8080/"
        },
        "id": "Wy7WRCR8DDpW",
        "outputId": "5187b5a9-e0dd-4d3a-c68a-d9865a45f5d5"
      },
      "execution_count": null,
      "outputs": [
        {
          "output_type": "stream",
          "name": "stdout",
          "text": [
            "e5\n",
            "8\n"
          ]
        }
      ]
    },
    {
      "cell_type": "markdown",
      "source": [
        "##<문제>알파벳과 숫자 정렬\n",
        "알파벳 대문자와 숫자로만 구성된 문자열이 입력으로 주어진다. 이때 모든 알파벳을 오름차순으로 정렬하여 이어서 출력한 뒤에, 그 뒤에 모든 숫자를 더한 값을 이어서 출력합니다."
      ],
      "metadata": {
        "id": "7Mvq6mnnKxwx"
      }
    },
    {
      "cell_type": "code",
      "source": [
        "data = input()\n",
        "dataSet = list(data)\n",
        "sum = 0\n",
        "alp_list = []\n",
        "\n",
        "for data in dataSet:\n",
        "  try :\n",
        "    sum += int(data)\n",
        "  except:\n",
        "    alp_list.append(data)\n",
        "\n",
        "alp_list = sorted(alp_list)\n",
        "if sum != 0:\n",
        "  result = \"\".join(alp_list)+str(sum)\n",
        "else:\n",
        "  result = \"\".join(alp_list)\n",
        "print(result)\n",
        "# 숫자가 안들어오는 상황을 인지 못했음"
      ],
      "metadata": {
        "colab": {
          "base_uri": "https://localhost:8080/"
        },
        "id": "gZOxrV2jIRRp",
        "outputId": "833eed95-17da-450e-a359-e334e07ad3b9"
      },
      "execution_count": null,
      "outputs": [
        {
          "output_type": "stream",
          "name": "stdout",
          "text": [
            "asdfasdf\n",
            "aaddffss\n"
          ]
        }
      ]
    },
    {
      "cell_type": "code",
      "source": [
        "# 답안 예시\n",
        "data = input()\n",
        "result = []\n",
        "value = 0\n",
        "\n",
        "for x in data:\n",
        "  if x.isalpha():\n",
        "    result.append(x)\n",
        "  else:\n",
        "    value += int(x)\n",
        "  \n",
        "result.sort()\n",
        "if value != 0:\n",
        "  result.append(str(value))\n",
        "\n",
        "print(\"\".join(result))"
      ],
      "metadata": {
        "colab": {
          "base_uri": "https://localhost:8080/"
        },
        "id": "pw8cNVudLdMv",
        "outputId": "54ef7a14-467d-4d55-bc1b-6a908fca4a22"
      },
      "execution_count": null,
      "outputs": [
        {
          "output_type": "stream",
          "name": "stdout",
          "text": [
            "fsadfsdaf\n",
            "aaddfffss\n"
          ]
        }
      ]
    },
    {
      "cell_type": "code",
      "source": [
        ""
      ],
      "metadata": {
        "id": "L045SxuyRwyc"
      },
      "execution_count": null,
      "outputs": []
    },
    {
      "cell_type": "markdown",
      "source": [
        "# 백준 문제풀이"
      ],
      "metadata": {
        "id": "BLGB-zOWc585"
      }
    },
    {
      "cell_type": "code",
      "source": [
        ""
      ],
      "metadata": {
        "id": "3InsSD4Gc867"
      },
      "execution_count": null,
      "outputs": []
    }
  ]
}