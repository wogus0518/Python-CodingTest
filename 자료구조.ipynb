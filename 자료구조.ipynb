{
  "nbformat": 4,
  "nbformat_minor": 0,
  "metadata": {
    "colab": {
      "name": "자료구조.ipynb",
      "provenance": [],
      "toc_visible": true,
      "authorship_tag": "ABX9TyMEV4jq6cNnmOTAwAx43Wjt",
      "include_colab_link": true
    },
    "kernelspec": {
      "name": "python3",
      "display_name": "Python 3"
    },
    "language_info": {
      "name": "python"
    }
  },
  "cells": [
    {
      "cell_type": "markdown",
      "metadata": {
        "id": "view-in-github",
        "colab_type": "text"
      },
      "source": [
        "<a href=\"https://colab.research.google.com/github/wogus0518/Python-CodingTest/blob/main/%EC%9E%90%EB%A3%8C%EA%B5%AC%EC%A1%B0.ipynb\" target=\"_parent\"><img src=\"https://colab.research.google.com/assets/colab-badge.svg\" alt=\"Open In Colab\"/></a>"
      ]
    },
    {
      "cell_type": "markdown",
      "source": [
        "#자료구조"
      ],
      "metadata": {
        "id": "EQvNpRTWUkhZ"
      }
    },
    {
      "cell_type": "markdown",
      "source": [
        "##배열"
      ],
      "metadata": {
        "id": "hXL0nGLCUdp9"
      }
    },
    {
      "cell_type": "markdown",
      "source": [
        "###11866번 요세푸스 문제0"
      ],
      "metadata": {
        "id": "47E9nocpzAto"
      }
    },
    {
      "cell_type": "code",
      "execution_count": null,
      "metadata": {
        "colab": {
          "base_uri": "https://localhost:8080/"
        },
        "id": "MYx1EVR6ZOT_",
        "outputId": "dc96a091-f321-4825-efeb-21f31ad2b87c"
      },
      "outputs": [
        {
          "output_type": "stream",
          "name": "stdout",
          "text": [
            "7 3\n",
            "<3, 6, 2, 7, 5, 1, 4>\n"
          ]
        }
      ],
      "source": [
        "#11866번 요세푸스 문제0\n",
        "n, k = map(int, input().split())\n",
        "people = list(range(1, n+1))\n",
        "\n",
        "ans = []\n",
        "for _ in range(len(people)):\n",
        "  if len(people) < k :\n",
        "    i = k - len(people)\n",
        "    if i > len(people):\n",
        "      while i > len(people):\n",
        "        i -= len(people)\n",
        "    ans.append(people.pop(i-1))\n",
        "    people = people[i-1:] + people[:i-1]\n",
        "  else :\n",
        "    i = k\n",
        "    ans.append(people.pop(i-1))\n",
        "    people = people[i-1:] + people[:i-1]\n",
        "\n",
        "print(\"<\", end=\"\")\n",
        "for idx in range(len(ans)):\n",
        "  if idx+1 == len(ans):\n",
        "    print(ans[idx], end=\"\")\n",
        "  else:\n",
        "    print(f'{ans[idx]}, ', end=\"\")\n",
        "print(\">\", end=\"\")"
      ]
    },
    {
      "cell_type": "markdown",
      "source": [
        "##스택\n",
        "- 어떤 데이터를 삽입/삭제하는 과정을 '쌓는'형태로 나타낼 수 있는 자료구조\n",
        "- 브라우저에서 뒤로/앞으로 가기를 스택 2개 사용해서 구현 한다.\n",
        "- DFS 등 다른 알고리즘에서 사용되는 자료구조이기도 한다.\n",
        "- 스택 활용 문제에서는 입력을 순차적으로 살펴보면서 각각의 데이터를 스택에 언제 넣고 뺄지 결정하는게 핵심 포인트\n",
        "- Python에서는 기본 자료형인 리스트와 append, pop 메소드를 사용\n"
      ],
      "metadata": {
        "id": "eqEgWF1V-Abj"
      }
    },
    {
      "cell_type": "markdown",
      "source": [
        "###9012번 괄호"
      ],
      "metadata": {
        "id": "7NjKwpHQCfFx"
      }
    },
    {
      "cell_type": "markdown",
      "source": [
        "####다른 풀이"
      ],
      "metadata": {
        "id": "ZeAF_nqu0G3p"
      }
    },
    {
      "cell_type": "code",
      "source": [
        "# 내 풀이\n",
        "n = int(input())\n",
        "\n",
        "for _ in range(n):\n",
        "  data = str(input())\n",
        "\n",
        "  if (len(list(data)) % 2 != 0) or (list(data)[0]==\")\") : \n",
        "    print(\"NO\")\n",
        "  else:\n",
        "    while len(data) != 0:\n",
        "      data = data.split(\"()\")\n",
        "      if len(data)==1:\n",
        "        break\n",
        "      else:\n",
        "        data = \"\".join(data)\n",
        "    \n",
        "    print(\"YES\") if len(data) == 0 else print(\"NO\")"
      ],
      "metadata": {
        "colab": {
          "base_uri": "https://localhost:8080/"
        },
        "id": "_pZW3yWBrUDZ",
        "outputId": "511a5e48-a64d-4c8c-8c12-7e3f38c2017f"
      },
      "execution_count": null,
      "outputs": [
        {
          "output_type": "stream",
          "name": "stdout",
          "text": [
            "3\n",
            "((\n",
            "NO\n",
            "))\n",
            "NO\n",
            "())(()\n",
            "NO\n"
          ]
        }
      ]
    },
    {
      "cell_type": "markdown",
      "source": [
        "####문제 의도 풀이\n",
        "다음 코드는 스택을 활용하였다. 스택 리스트에 언제 넣고 언제 삭제하면서 문제를 해결하는지 잘 생각해보자."
      ],
      "metadata": {
        "id": "3fe292hmCMkF"
      }
    },
    {
      "cell_type": "code",
      "source": [
        "n = int(input())\n",
        "\n",
        "for _ in range(n):\n",
        "  stk = []\n",
        "  ans = \"YES\"\n",
        "  for c in input():\n",
        "    if c == \"(\":\n",
        "      stk.append(c)\n",
        "    else:\n",
        "      if len(stk)>0:\n",
        "        stk.pop()\n",
        "      else:\n",
        "        ans = \"NO\"\n",
        "  if len(stk)!=0:\n",
        "    ans = \"NO\"\n",
        "  print(ans)"
      ],
      "metadata": {
        "colab": {
          "base_uri": "https://localhost:8080/"
        },
        "id": "hFkv6a_Twq9B",
        "outputId": "2670ff1f-80b8-4253-964d-0be9e5572c48"
      },
      "execution_count": null,
      "outputs": [
        {
          "output_type": "stream",
          "name": "stdout",
          "text": [
            "6\n",
            "(())())\n",
            "NO\n",
            "(((()())()\n",
            "NO\n",
            "(()())((()))\n",
            "YES\n",
            "((()()(()))(((())))()\n",
            "NO\n",
            "()()()()(()()())()\n",
            "YES\n",
            "(()((())()(\n",
            "NO\n"
          ]
        }
      ]
    },
    {
      "cell_type": "markdown",
      "source": [
        "##큐\n",
        "- 스택과 상반된 특징을 띠고 있다.\n",
        "- 큐는 데이터를 넣은 순서 그대로 빼게 된다.\n",
        "- BFS에서 쓰이는 자료구조\n",
        "- Python에서는 해당 모듈을 import한다.\n",
        "  - Queue 모듈은 멀티스레딩 환경까지 고려하여 속도가 느리다.\n",
        "  - 알고리즘 문제를 푸는 경우에는 deque를 사용하자.\n",
        "  - deque은 앞뒤 구분없이 어느 쪽으로든 넣고 뺄 수 있으므로 상위호환이라 볼 수도 있다."
      ],
      "metadata": {
        "id": "WQqOBNGXCHIp"
      }
    },
    {
      "cell_type": "markdown",
      "source": [
        "###2164번 카드2"
      ],
      "metadata": {
        "id": "mspP7rEWzd9e"
      }
    },
    {
      "cell_type": "code",
      "source": [
        "from collections import deque\n",
        "\n",
        "n = int(input())\n",
        "deq = deque(list(range(1,n+1)))\n",
        "while len(deq)>2:\n",
        "  deq.popleft()\n",
        "  deq.append(deq[0])\n",
        "  deq.popleft()\n",
        "  \n",
        "print(deq[0]) if len(deq)==1 else print(deq[1])"
      ],
      "metadata": {
        "colab": {
          "base_uri": "https://localhost:8080/"
        },
        "id": "TC2pIXrEyJng",
        "outputId": "0d7bb662-244f-41da-9791-2b2e4fa0482a"
      },
      "execution_count": null,
      "outputs": [
        {
          "output_type": "stream",
          "name": "stdout",
          "text": [
            "6\n",
            "4\n"
          ]
        }
      ]
    },
    {
      "cell_type": "code",
      "source": [
        "from collections import deque\n",
        "\n",
        "n = int(input())\n",
        "dq = deque([i for i in range(1, n+1)])\n",
        "if len(dq) == 1:\n",
        "  pass\n",
        "else:\n",
        "  while True:\n",
        "    dq.popleft()\n",
        "    dq.append(dq.popleft())\n",
        "    if len(dq) == 1:\n",
        "      break\n",
        "\n",
        "print(dq[0])"
      ],
      "metadata": {
        "id": "JNoice7Tvksn"
      },
      "execution_count": null,
      "outputs": []
    },
    {
      "cell_type": "markdown",
      "source": [
        "##우선수위 큐\n",
        "- 우선순위 큐는 우선순위가 가장 높은 데이터를 가장 먼저 삭제하는 자료구조\n",
        "- 우선순위 큐는 데이터를 우선순위에 따라 처리하고 싶을 때 사용한다.\n",
        "- 우선순위 큐를 구현하는 방법 중에 힙(heap)을 이용할 수 있다.\n",
        "###힙의 특징\n",
        "  - 힙은 완전 이진 트리 자료구조의 일종이다.\n",
        "  - 힙에서는 항상 루트 노드를 제거한다.\n",
        "  - Python의 heapq는 최소힙이다."
      ],
      "metadata": {
        "id": "4pGs47cjJHVt"
      }
    },
    {
      "cell_type": "markdown",
      "source": [
        "###힙을 이용한 오름차순 정렬 예제"
      ],
      "metadata": {
        "id": "IldYl41Yzuwg"
      }
    },
    {
      "cell_type": "code",
      "source": [
        "# 힙을 이용한 오름차순 정렬\n",
        "import heapq\n",
        "\n",
        "def heapsort(iterable):\n",
        "  h = []\n",
        "  result = []\n",
        "  for value in iterable:\n",
        "    heapq.heappush(h, value)\n",
        "  for i in range(len(h)):\n",
        "    result.append(heapq.heappop(h))\n",
        "  return result\n",
        "\n",
        "n = int(input())\n",
        "arr = []\n",
        "\n",
        "for i in range(n):\n",
        "  arr.append(int(input()))\n",
        "\n",
        "res = heapsort(arr)\n",
        "\n",
        "for i in res:\n",
        "  print(f\"{i} \", end=\"\")"
      ],
      "metadata": {
        "colab": {
          "base_uri": "https://localhost:8080/"
        },
        "id": "w23FnwbdH411",
        "outputId": "b7b7d1f0-6bbf-4ddf-a2a9-848b13c816f2"
      },
      "execution_count": null,
      "outputs": [
        {
          "output_type": "stream",
          "name": "stdout",
          "text": [
            "6\n",
            "1\n",
            "5\n",
            "8\n",
            "12\n",
            "2\n",
            "4\n",
            "1, 2, 4, 5, 8, 12, "
          ]
        }
      ]
    },
    {
      "cell_type": "markdown",
      "source": [
        "###11286번 절댓값 힙"
      ],
      "metadata": {
        "id": "EsmDPHVXzwjD"
      }
    },
    {
      "cell_type": "markdown",
      "source": [
        "####시간 초과"
      ],
      "metadata": {
        "id": "NuB51cdSz1jV"
      }
    },
    {
      "cell_type": "code",
      "source": [
        "# 시간 초과\n",
        "import heapq\n",
        "import sys\n",
        "\n",
        "input = sys.stdin.readline\n",
        "h = []\n",
        "data = []\n",
        "\n",
        "for _ in range(int(input())) :\n",
        "    x = int(input())\n",
        "\n",
        "    if x == 0:\n",
        "        try:\n",
        "            s = heapq.heappop(h)\n",
        "            if -s in data:\n",
        "                print(-s)\n",
        "                data.remove(-s)\n",
        "            else:\n",
        "                print(s)\n",
        "                data.remove(s)\n",
        "        except:\n",
        "            print(0)\n",
        "    else:\n",
        "        data.append(x)\n",
        "        if x < 0 :\n",
        "            heapq.heappush(h, -x)\n",
        "        else:\n",
        "            heapq.heappush(h, x)\n",
        "\n"
      ],
      "metadata": {
        "id": "MVAtbMyuO_G3"
      },
      "execution_count": null,
      "outputs": []
    },
    {
      "cell_type": "markdown",
      "source": [
        "####정답"
      ],
      "metadata": {
        "id": "EwgVC0Quz5H_"
      }
    },
    {
      "cell_type": "code",
      "source": [
        "#11286 절댓값 힙\n",
        "# 튜플 구조도 넣을 수 있다니 대박이다\n",
        "\n",
        "import heapq\n",
        "import sys\n",
        "\n",
        "input = sys.stdin.readline\n",
        "h = []\n",
        "\n",
        "for _ in range(int(input())) :\n",
        "    x = int(input())\n",
        "\n",
        "    if x == 0:\n",
        "        try:\n",
        "            print(heapq.heappop(h)[1])\n",
        "        except:\n",
        "            print(0)\n",
        "                \n",
        "    else:\n",
        "        if x < 0 :\n",
        "            heapq.heappush(h, (-x, x))\n",
        "        else:\n",
        "            heapq.heappush(h, (x,  x))"
      ],
      "metadata": {
        "id": "NVGMriPOYd1r"
      },
      "execution_count": null,
      "outputs": []
    },
    {
      "cell_type": "markdown",
      "source": [
        "####문제 응용"
      ],
      "metadata": {
        "id": "u3_oSqWNz8g5"
      }
    },
    {
      "cell_type": "markdown",
      "source": [
        "만약에 주어진 문제와 반대로 절댓값이 큰 순서대로, 절댓값이 같은 수가 있다면 큰 수 먼저 출력한다고 하면 - 부호를 이용해서 문제를 해결할 수 있다."
      ],
      "metadata": {
        "id": "dcvYesyFyku5"
      }
    },
    {
      "cell_type": "code",
      "source": [
        "import heapq, sys\n",
        "\n",
        "input = sys.stdin.readline\n",
        "hq = []\n",
        "\n",
        "for _ in range(int(input())):\n",
        "  n = int(input())\n",
        "  if n == 0:\n",
        "    print(0 if len(hq)==0 else -heapq.heappop(hq)[1])\n",
        "  else:\n",
        "    data = (-abs(n), -n)\n",
        "    heapq.heappush(hq, data)\n"
      ],
      "metadata": {
        "id": "v_aRnUG9ykOL"
      },
      "execution_count": null,
      "outputs": []
    },
    {
      "cell_type": "markdown",
      "source": [
        "##맵\n",
        "- 맵의 가장 큰 특징은 key, value로 데이터를 저장한다는 점\n",
        "- key, value에는 정수, 문자열, 튜플 등 어떤 자료형도 올 수 있다.\n",
        "- key는 중복될 수 없다.\n",
        "- Python의 딕셔너리는 unordered_map과 마찬가지로 해시로 되어 있어 정렬되지 않고, 시간 복잡도가 O(1)이다.\n"
      ],
      "metadata": {
        "id": "McgdwUCliN3l"
      }
    },
    {
      "cell_type": "markdown",
      "source": [
        "###1302번 베스트셀러"
      ],
      "metadata": {
        "id": "NKE-lCK-0VS8"
      }
    },
    {
      "cell_type": "code",
      "source": [
        "import sys\n",
        "input = sys.stdin.readline\n",
        "\n",
        "bs = {}\n",
        "for _ in range(int(input())):\n",
        "  b = input().rstrip()\n",
        "\n",
        "  if b in bs.keys(): bs[b] += 1 \n",
        "  else: bs[b] = 1\n",
        "\n",
        "#단순히 max_value구하기\n",
        "max_value = max(bs.values())\n",
        "\n",
        "arr = []\n",
        "for 책이름, 판매수 in bs.items():\n",
        "  if 판매수 == max_value:\n",
        "    arr.append(책이름)\n",
        "\n",
        "print(sorted(arr)[0])"
      ],
      "metadata": {
        "id": "hmLVJ7BK7pqZ"
      },
      "execution_count": null,
      "outputs": []
    },
    {
      "cell_type": "code",
      "source": [
        "#딕셔너리 value값으로 내림차순 정렬하기\n",
        "# bs = sorted(bs.items(), key=lambda b: b[1], reverse=True)\n",
        "\n",
        "\n",
        "\n",
        "#딕셔너리 value값으로 key값 검색하기\n",
        "# dict.items()는 튜플이 리스트의 원소가 되어 반환되어 진다. dict().items => [(),()]\n",
        "# dict([(),()]) => dictionary형태로 변환 가능"
      ],
      "metadata": {
        "id": "u5VgJvB07wdI"
      },
      "execution_count": null,
      "outputs": []
    },
    {
      "cell_type": "code",
      "source": [
        "import sys\n",
        "input = sys.stdin.readline\n",
        "\n",
        "book_dict = dict()\n",
        "for _ in range(int(input())):\n",
        "    book = input().rstrip()\n",
        "    try:\n",
        "        book_dict.get(book)\n",
        "        book_dict[book] += 1\n",
        "    except:\n",
        "        book_dict[book] = 1\n",
        "s_dict = sorted(book_dict.items(), key = lambda x: x[1], reverse=True)\n",
        "max_val = max(book_dict.values())\n",
        "arr = []\n",
        "for k, v in book_dict.items():\n",
        "  if v == max_val:\n",
        "    arr.append(k)\n",
        "arr = sorted(arr)\n",
        "print(arr[0])"
      ],
      "metadata": {
        "colab": {
          "base_uri": "https://localhost:8080/"
        },
        "id": "7BQm305lisFV",
        "outputId": "580e69f0-effe-4433-dd9a-abfd3481efce"
      },
      "execution_count": null,
      "outputs": [
        {
          "output_type": "stream",
          "name": "stdout",
          "text": [
            "6\n",
            "a\n",
            "\n",
            "\n",
            "\n",
            "a\n",
            "b\n",
            "[('', 3), ('a', 2), ('b', 1)]\n"
          ]
        }
      ]
    },
    {
      "cell_type": "markdown",
      "source": [
        "##집합\n",
        "- 집합의 가장 큰 특징은 중복이 없다는 점\n",
        "- 삽입/삭제 시간 복잡도는 O(1)"
      ],
      "metadata": {
        "id": "jjFveVbFL5xW"
      }
    },
    {
      "cell_type": "markdown",
      "source": [
        "###7785번 회사에 있는 사람"
      ],
      "metadata": {
        "id": "RmdBfW_O0acQ"
      }
    },
    {
      "cell_type": "markdown",
      "source": [
        "####ver. 집합 자료구조"
      ],
      "metadata": {
        "id": "5hKmtzuA0d6j"
      }
    },
    {
      "cell_type": "code",
      "source": [
        "import sys\n",
        "input = sys.stdin.readline\n",
        "\n",
        "s = set()\n",
        "\n",
        "for _ in range(int(input())):\n",
        "  name, log = input().rstrip().split()\n",
        "  if log == 'enter':\n",
        "    s.add(name)\n",
        "  if log == 'leave':\n",
        "    s.remove(name)\n",
        "working = sorted(s, reverse=True)\n",
        "for w in working:\n",
        "  print(w)"
      ],
      "metadata": {
        "id": "aPytyNy6H1CR"
      },
      "execution_count": null,
      "outputs": []
    },
    {
      "cell_type": "markdown",
      "source": [
        "####ver. 딕셔너리 자료구조"
      ],
      "metadata": {
        "id": "TrSvOexX0jVp"
      }
    },
    {
      "cell_type": "code",
      "source": [
        "people = dict()\n",
        "enter = list()\n",
        "\n",
        "for _ in range(int(input())):\n",
        "    name, status = input().split()\n",
        "    people[name] = status\n",
        "for k,v in people.items():\n",
        "    if v == 'enter':\n",
        "        enter.append(k)\n",
        "for n in sorted(enter, reverse=True):\n",
        "    print(n)"
      ],
      "metadata": {
        "colab": {
          "base_uri": "https://localhost:8080/"
        },
        "id": "Ed2awrazRxI8",
        "outputId": "2c1392ac-b79d-4bec-94a3-cd7261cca0f1"
      },
      "execution_count": null,
      "outputs": [
        {
          "output_type": "stream",
          "name": "stdout",
          "text": [
            "4\n",
            "a enter\n",
            "b enter\n",
            "c enter\n",
            "b leave\n",
            "a enter\n",
            "b leave\n",
            "c enter\n"
          ]
        }
      ]
    },
    {
      "cell_type": "markdown",
      "source": [
        "#백준 연습문제"
      ],
      "metadata": {
        "id": "b2a1c55hUpIU"
      }
    },
    {
      "cell_type": "markdown",
      "source": [
        "##5397번 키로거"
      ],
      "metadata": {
        "id": "ZL6dmkcwUr8S"
      }
    },
    {
      "cell_type": "markdown",
      "source": [
        "###시간 초과"
      ],
      "metadata": {
        "id": "8AQXArgeoQ8Y"
      }
    },
    {
      "cell_type": "code",
      "source": [
        "import sys\n",
        "input = sys.stdin.readline\n",
        "\n",
        "for _ in range(int(input())):\n",
        "  t = input().rstrip()\n",
        "  cursor = 0\n",
        "  psw = []\n",
        "\n",
        "  for i in t:\n",
        "    if i in [\"<\",\">\",\"-\"] and len(psw)==0 :\n",
        "      pass\n",
        "    elif i not in [\"<\",\">\",\"-\"] and cursor==len(psw):\n",
        "      psw.append(i)\n",
        "      cursor += 1\n",
        "    elif i not in [\"<\",\">\",\"-\"]:\n",
        "      psw.insert(cursor, i)\n",
        "      cursor += 1\n",
        "    elif i in [\"<\", \">\", \"-\"] :\n",
        "      if i == \"-\" and cursor>0:\n",
        "        psw.pop(cursor-1)\n",
        "        cursor -= 1\n",
        "      elif i == \"<\" and cursor>0 :\n",
        "        cursor -= 1\n",
        "      elif i == \">\" and cursor<len(psw):\n",
        "        cursor += 1\n",
        "      else :\n",
        "        pass\n",
        "  print(\"\".join(psw))"
      ],
      "metadata": {
        "id": "y6lu3RrDUwjo"
      },
      "execution_count": null,
      "outputs": []
    },
    {
      "cell_type": "markdown",
      "source": [
        "###틀린 코드"
      ],
      "metadata": {
        "id": "gyw9VubbogUe"
      }
    },
    {
      "cell_type": "code",
      "source": [
        "for _ in range(int(input())):\n",
        "    data = list(str(input()))\n",
        "\n",
        "    stk_left = []\n",
        "    stk_right = []\n",
        "    for d in data :\n",
        "        if len(stk_left)==0 and d in [\"<\",\">\",\"-\"]: continue\n",
        "        elif d not in [\"<\",\">\",\"-\"]:\n",
        "            stk_left.append(d)\n",
        "        elif d in [\"<\",\">\",\"-\"]:\n",
        "            if d == \"<\":\n",
        "                stk_right.append(stk_left.pop())\n",
        "            elif d == \"-\":\n",
        "                stk_left.pop()\n",
        "            elif d == \">\":\n",
        "                if len(stk_right)==0: continue\n",
        "                else:\n",
        "                    stk_left.append(stk_right.pop())\n",
        "    result = stk_left + stk_right[::-1]\n",
        "    print(\"\".join(result))"
      ],
      "metadata": {
        "id": "ZebP3CxwhKem",
        "colab": {
          "base_uri": "https://localhost:8080/"
        },
        "outputId": "6b57f590-625f-4974-a38d-04333167b784"
      },
      "execution_count": null,
      "outputs": [
        {
          "output_type": "stream",
          "name": "stdout",
          "text": [
            "2\n",
            "<<BP<A>>Cd-\n",
            "BAPC\n",
            "ThIsIsS3Cr3t--<<<<>>\n",
            "ThIsIsS3Cr\n"
          ]
        }
      ]
    },
    {
      "cell_type": "markdown",
      "source": [
        "###정답"
      ],
      "metadata": {
        "id": "RqP7Nzp_oc_Z"
      }
    },
    {
      "cell_type": "code",
      "source": [
        "for _ in range(int(input())):\n",
        "    data = list(str(input()))\n",
        "\n",
        "    stk_left = []\n",
        "    stk_right = []\n",
        "    for d in data :\n",
        "        if d == '<' :\n",
        "            if len(stk_left) :\n",
        "                stk_right.append(stk_left.pop())\n",
        "        elif d == '>' :\n",
        "            if len(stk_right) :\n",
        "                stk_left.append(stk_right.pop())\n",
        "        elif d == '-' :\n",
        "            if len(stk_left):\n",
        "                stk_left.pop()\n",
        "        else:\n",
        "            stk_left.append(d)\n",
        "    result = stk_left + stk_right[::-1]\n",
        "    print(\"\".join(result))"
      ],
      "metadata": {
        "id": "DEFvb0iwglwt"
      },
      "execution_count": null,
      "outputs": []
    },
    {
      "cell_type": "markdown",
      "source": [
        "##1935번 후위 표기식2"
      ],
      "metadata": {
        "id": "g3nLvtKTjZ5U"
      }
    },
    {
      "cell_type": "code",
      "source": [
        "def cal_result(a, b, op):\n",
        "    if op == '+':\n",
        "        return a+b\n",
        "    elif op == '-':\n",
        "        return a-b\n",
        "    elif op == '*':\n",
        "        return a*b\n",
        "    elif op == '/':\n",
        "        return a/b\n",
        "\n",
        "n = int(input())\n",
        "data = list(str(input()))\n",
        "for i in range(n):\n",
        "    a = int(input())\n",
        "    while True :\n",
        "        try :\n",
        "            x = data.index(chr(65+i))\n",
        "            data[x] = a\n",
        "        except :break\n",
        "\n",
        "stk = []\n",
        "for d in data :\n",
        "    if type(d) == int :\n",
        "        stk.append(d)\n",
        "    else :\n",
        "        right = stk.pop()\n",
        "        left  = stk.pop()\n",
        "        stk.append(cal_result(left, right, d))\n",
        "\n",
        "print(\"{:.2f}\".format(stk[0]))\n",
        "        "
      ],
      "metadata": {
        "id": "AvLZOhU4jaQ1",
        "colab": {
          "base_uri": "https://localhost:8080/"
        },
        "outputId": "79a84ed1-c040-40b4-9c62-49eef39daab6"
      },
      "execution_count": null,
      "outputs": [
        {
          "output_type": "stream",
          "name": "stdout",
          "text": [
            "1\n",
            "AA+A+\n",
            "1\n",
            "3.00\n"
          ]
        }
      ]
    },
    {
      "cell_type": "markdown",
      "source": [
        "##2075번 N번째 큰 수"
      ],
      "metadata": {
        "id": "V-j2M0_JQzCA"
      }
    },
    {
      "cell_type": "markdown",
      "source": [
        "####메모리 초과"
      ],
      "metadata": {
        "id": "xd99S-ks0vF1"
      }
    },
    {
      "cell_type": "code",
      "source": [
        "# 메모리 초과 => 입력되는 모든 수를 가지고 있을 필요가 없도록 해보자\n",
        "import heapq\n",
        "\n",
        "n = int(input())\n",
        "\n",
        "matrix = []\n",
        "for _ in range(n) :\n",
        "    num_list = list(map(int, input().split()))\n",
        "    matrix.append(num_list)\n",
        "\n",
        "def heapsort(iterable):\n",
        "    hq = []\n",
        "    result = []\n",
        "    for num in iterable:\n",
        "        heapq.heappush(hq, num)\n",
        "    for i in range(len(hq)):\n",
        "        result.append(heapq.heappop(hq))\n",
        "    return result\n",
        "\n",
        "arr = heapsort(matrix[n-1])\n",
        "\n",
        "for idx in range(1,n):\n",
        "    count = 0\n",
        "    for num in matrix[n-1-idx]:\n",
        "        count += 1\n",
        "        if arr[0] < num :\n",
        "            count = 0\n",
        "            input_arr = arr[1:]\n",
        "            input_arr.append(num)\n",
        "            arr = heapsort(input_arr)\n",
        "    if count == n:\n",
        "        print(idx)\n",
        "        break\n",
        "print(arr[0])\n"
      ],
      "metadata": {
        "colab": {
          "base_uri": "https://localhost:8080/"
        },
        "id": "sYqtr7qcQ8XQ",
        "outputId": "aad3aca1-1fc4-4228-c85e-9dc96c88d93a"
      },
      "execution_count": null,
      "outputs": [
        {
          "output_type": "stream",
          "name": "stdout",
          "text": [
            "5\n",
            "12 7 9 15 5\n",
            "13 8 11 19 6\n",
            "21 10 26 31 16\n",
            "48 14 28 35 25\n",
            "52 20 32 41 49\n",
            "2\n",
            "35\n"
          ]
        }
      ]
    },
    {
      "cell_type": "markdown",
      "source": [
        "위 방법과 같은 우선순위 큐 자료구조를 이용하였지만 모든 입력값을 가지고 있지 않고 N번째 큰 수까지만 가지고 있으면서 입력이 들어올 때 비교해서 연산을 한다."
      ],
      "metadata": {
        "id": "Sml_jGVWjlH0"
      }
    },
    {
      "cell_type": "markdown",
      "source": [
        "####정답"
      ],
      "metadata": {
        "id": "iyvegqAE0xrc"
      }
    },
    {
      "cell_type": "code",
      "source": [
        "import heapq\n",
        "\n",
        "hq = []\n",
        "n = int(input())\n",
        "for i in range(n):\n",
        "    input_list = list(map(int, input().split()))\n",
        "    for num in input_list:\n",
        "      if i > 0 :\n",
        "        if hq[0] < num :\n",
        "          heapq.heappop(hq)\n",
        "          heapq.heappush(hq, num)\n",
        "      else: \n",
        "        heapq.heappush(hq, num)\n",
        "    \n",
        "print(hq[0])\n"
      ],
      "metadata": {
        "colab": {
          "base_uri": "https://localhost:8080/"
        },
        "id": "kIvBR0ubQ4Ae",
        "outputId": "8f8f4a70-913a-480a-a596-3b6870eb2758"
      },
      "execution_count": null,
      "outputs": [
        {
          "output_type": "stream",
          "name": "stdout",
          "text": [
            "5\n",
            "12 7 9 15 5\n",
            "13 8 11 19 6\n",
            "21 10 26 31 16\n",
            "48 14 28 35 25\n",
            "52 20 32 41 49\n",
            "35\n"
          ]
        }
      ]
    },
    {
      "cell_type": "markdown",
      "source": [
        "####복습\n",
        "무조건적으로 힙에 넣는데 시간 단축을 위해서 넣어야 할 때를 생각하는 조건문을 걸면 시간이 줄어들 것이다."
      ],
      "metadata": {
        "id": "iD9QVL4kOwZ_"
      }
    },
    {
      "cell_type": "code",
      "source": [
        "import heapq\n",
        "import sys\n",
        "input = sys.stdin.readline\n",
        "\n",
        "N = int(input())\n",
        "\n",
        "hq = []\n",
        "for _ in range(N):\n",
        "  input_data = list(map(int,input().split()))\n",
        "  for data in input_data:\n",
        "    heapq.heappush(hq,data)\n",
        "  while len(hq)>N:\n",
        "    heapq.heappop(hq)\n",
        "ans = heapq.heappop(hq)\n",
        "print(ans)"
      ],
      "metadata": {
        "id": "-vTdVxTqOql5"
      },
      "execution_count": null,
      "outputs": []
    }
  ]
}