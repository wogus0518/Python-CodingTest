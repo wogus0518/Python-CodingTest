{
  "nbformat": 4,
  "nbformat_minor": 0,
  "metadata": {
    "colab": {
      "name": "동적계획법.ipynb",
      "provenance": [],
      "collapsed_sections": [],
      "toc_visible": true,
      "authorship_tag": "ABX9TyNWsYA9lNJcrvogdNXUgG8a",
      "include_colab_link": true
    },
    "kernelspec": {
      "name": "python3",
      "display_name": "Python 3"
    },
    "language_info": {
      "name": "python"
    }
  },
  "cells": [
    {
      "cell_type": "markdown",
      "metadata": {
        "id": "view-in-github",
        "colab_type": "text"
      },
      "source": [
        "<a href=\"https://colab.research.google.com/github/wogus0518/Python-CodingTest/blob/main/%EB%8F%99%EC%A0%81%EA%B3%84%ED%9A%8D%EB%B2%95.ipynb\" target=\"_parent\"><img src=\"https://colab.research.google.com/assets/colab-badge.svg\" alt=\"Open In Colab\"/></a>"
      ]
    },
    {
      "cell_type": "markdown",
      "source": [
        "#동적계획법\n",
        "완전탐색으로 풀기에는 시간 초과가 발생하는 문제들에 대해서 더 효율적인 알고리즘을 사용해야한다. 그 중 하나가 동적계획법(DP)이다."
      ],
      "metadata": {
        "id": "rMBdg8kckK9Z"
      }
    },
    {
      "cell_type": "markdown",
      "source": [
        "##메모이제이션\n",
        "한 번 구한 부분 문제의 답을 따로 저장해두고 만약 또 함수가 호출되면 다시 구하지 말고 저장해 두었던 답을 바로 반환하는 것. 캐싱과 비슷한 개념이다."
      ],
      "metadata": {
        "id": "5vS1i9GLA1pT"
      }
    },
    {
      "cell_type": "code",
      "execution_count": null,
      "metadata": {
        "id": "WFLNi4yCkG3K"
      },
      "outputs": [],
      "source": [
        "cache = [-1] * 37\n",
        "def f(n):\n",
        "  if cache[n] != -1: # 캐시에 저장되어있는 값이 있다면\n",
        "    return cache[n]  # 반환하시오\n",
        "\n",
        "  cache[n] = n if n < 2 else f(n-1) + f(n-2)\n",
        "  return cache[n]\n",
        "\n",
        "print(f(4))"
      ]
    },
    {
      "cell_type": "markdown",
      "source": [
        "##타뷸레이션\n",
        "Bottom-up방식으로 반복문을 사용해 작은 수부터 순서대로 전부 구해서 저장해 두는 것"
      ],
      "metadata": {
        "id": "mRTDHd_iCiu-"
      }
    },
    {
      "cell_type": "code",
      "source": [
        "fibo = [-1]*37\n",
        "for i in range(37):\n",
        "    fibo[i] = i if i<2 else fibo[i-1] + fibo[i-2]\n",
        "\n",
        "print(fibo[36])"
      ],
      "metadata": {
        "id": "nYwNd8jjCvHz"
      },
      "execution_count": null,
      "outputs": []
    },
    {
      "cell_type": "markdown",
      "source": [
        "##문제풀이"
      ],
      "metadata": {
        "id": "HsnYHgRZfXXE"
      }
    },
    {
      "cell_type": "markdown",
      "source": [
        "###1463번 / 1로 만들기"
      ],
      "metadata": {
        "id": "JDd1NPnAfPOy"
      }
    },
    {
      "cell_type": "markdown",
      "source": [
        "####Top - Bottom 방식"
      ],
      "metadata": {
        "id": "wL1vWh8ofLlc"
      }
    },
    {
      "cell_type": "code",
      "source": [
        "import sys\n",
        "\n",
        "sys.setrecursionlimit(10**6)\n",
        "INF = 987654321\n",
        "N = int(input())\n",
        "cache = [INF] * (N+1)\n",
        "cache[1] = 0\n",
        "\n",
        "def dp(x):\n",
        "  if cache[x] != INF:\n",
        "    return cache[x]\n",
        "\n",
        "  if x%6 == 0:\n",
        "    cache[x] = min(dp(x//3), dp(x//2)) + 1\n",
        "  elif x%3 == 0:\n",
        "    cache[x] = min(dp(x//3), dp(x-1)) + 1\n",
        "  elif x%2 == 0:\n",
        "    cache[x] = min(dp(x//2), dp(x-1)) + 1\n",
        "  else:\n",
        "    cache[x] = dp(x-1) + 1\n",
        "  return cache[x]\n",
        "\n",
        "print(dp(N))"
      ],
      "metadata": {
        "id": "uK3lyHOeZjvZ"
      },
      "execution_count": null,
      "outputs": []
    },
    {
      "cell_type": "markdown",
      "source": [
        "####Bottom - Top 방식"
      ],
      "metadata": {
        "id": "BJOK2B_0fC7w"
      }
    },
    {
      "cell_type": "code",
      "source": [
        "N = int(input())\n",
        "cache = [-1] * (N+1)\n",
        "\n",
        "for i in range(1, N+1):\n",
        "  if i%6==0:\n",
        "    cache[i] = min(cache[i//3], cache[i//2]) + 1\n",
        "  elif i%3==0:\n",
        "    cache[i] = min(cache[i//3], cache[i-1]) + 1\n",
        "  elif i%2==0:\n",
        "    cache[i] = min(cache[i//2], cache[i-1]) + 1\n",
        "  else:\n",
        "    cache[i] = cache[i-1] + 1\n",
        "\n",
        "print(cache[N])"
      ],
      "metadata": {
        "id": "DYBNp5XtfCrB"
      },
      "execution_count": null,
      "outputs": []
    },
    {
      "cell_type": "markdown",
      "source": [
        "####BFS 적용"
      ],
      "metadata": {
        "id": "lwLddGFZfksM"
      }
    },
    {
      "cell_type": "code",
      "source": [
        "from collections import deque\n",
        "\n",
        "dq = deque()\n",
        "n = int(input())\n",
        "dq.append((n, 0))\n",
        "chk = [False] * (n+1)\n",
        "chk[n] = True\n",
        "\n",
        "while dq:\n",
        "  num, t = dq.popleft()\n",
        "  if num == 1:\n",
        "    print(t)\n",
        "    break\n",
        "  \n",
        "  if num%3==0 and not chk[num//3]:\n",
        "    dq.append((num//3, t+1))\n",
        "    chk[num//3] = True\n",
        "  if num%2==0 and not chk[num//2]:\n",
        "    dq.append((num//2, t+1))\n",
        "    chk[num//2] = True\n",
        "  if chk[num-1]==False:\n",
        "    dq.append((num-1, t+1))\n",
        "    chk[num-1] = True"
      ],
      "metadata": {
        "id": "aIh0Ja7MfptS"
      },
      "execution_count": null,
      "outputs": []
    },
    {
      "cell_type": "markdown",
      "source": [
        "###11726번 / 2*n 타일링"
      ],
      "metadata": {
        "id": "dsw9C72Xo_Zh"
      }
    },
    {
      "cell_type": "markdown",
      "source": [
        "####Top-Bottom"
      ],
      "metadata": {
        "id": "Loj_skcfpFl9"
      }
    },
    {
      "cell_type": "code",
      "source": [
        "import sys\n",
        "sys.setrecursionlimit(10**6)\n",
        "\n",
        "n = int(input())\n",
        "cache = [0]*(n+1)\n",
        "\n",
        "def dp(x) :\n",
        "  if cache[x] != 0:\n",
        "    return cache[x]\n",
        "  \n",
        "  else:\n",
        "    cache[x] = x if x<=2 else dp(x-1) + dp(x-2)\n",
        "  \n",
        "  return cache[x]\n",
        "\n",
        "print(dp(n)%10007)\n"
      ],
      "metadata": {
        "id": "VR1sbQOhpD49"
      },
      "execution_count": null,
      "outputs": []
    },
    {
      "cell_type": "markdown",
      "source": [
        "####Bottom-Top"
      ],
      "metadata": {
        "id": "OQCnkYdtpK_X"
      }
    },
    {
      "cell_type": "code",
      "source": [
        "n = int(input())\n",
        "tiling = [0]*(n+1)\n",
        "\n",
        "for i in range(1,n+1):\n",
        "  tiling[i] = i if i<=2 else tiling[i-1]+tiling[i-2]\n",
        "\n",
        "print(tiling[n]%10007)"
      ],
      "metadata": {
        "id": "Ute8jfkspM79"
      },
      "execution_count": null,
      "outputs": []
    },
    {
      "cell_type": "markdown",
      "source": [
        "##9465번 / 스티커"
      ],
      "metadata": {
        "id": "sej-89pW3eOp"
      }
    },
    {
      "cell_type": "code",
      "source": [
        "n = int(input())\n",
        "stk = [list(map(int, input().split())) for _ in range(2)]\n",
        "\n",
        "dp = [[0]*n for _ in range(2)]\n",
        "\n",
        "dp[0][0] = stk[0][0]\n",
        "dp[1][0] = stk[1][0]\n",
        "if n >= 2:\n",
        "  dp[0][1] = dp[1][0] + stk[0][1]\n",
        "  dp[1][1] = dp[0][0] + stk[1][1]\n",
        "\n",
        "for i in range(2,n):\n",
        "  for j in range(2):\n",
        "    dp[j][i] = max(dp[1 if j==0 else 0][i-1], dp[1 if j==0 else 0][i-2]) + stk[j][i]\n",
        "\n",
        "\n",
        "\n",
        "print(max(dp[0][n-1],dp[1][n-1]))"
      ],
      "metadata": {
        "id": "AjiTEgHF3dqM"
      },
      "execution_count": null,
      "outputs": []
    }
  ]
}