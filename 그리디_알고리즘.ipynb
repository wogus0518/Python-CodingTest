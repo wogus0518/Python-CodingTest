{
  "nbformat": 4,
  "nbformat_minor": 0,
  "metadata": {
    "colab": {
      "name": "그리디_알고리즘.ipynb",
      "provenance": [],
      "toc_visible": true,
      "collapsed_sections": [],
      "authorship_tag": "ABX9TyNGhGdToy6NLyjB/ciyLAhs",
      "include_colab_link": true
    },
    "kernelspec": {
      "name": "python3",
      "display_name": "Python 3"
    },
    "language_info": {
      "name": "python"
    }
  },
  "cells": [
    {
      "cell_type": "markdown",
      "metadata": {
        "id": "view-in-github",
        "colab_type": "text"
      },
      "source": [
        "<a href=\"https://colab.research.google.com/github/wogus0518/Python-CodingTest/blob/main/%EA%B7%B8%EB%A6%AC%EB%94%94_%EC%95%8C%EA%B3%A0%EB%A6%AC%EC%A6%98.ipynb\" target=\"_parent\"><img src=\"https://colab.research.google.com/assets/colab-badge.svg\" alt=\"Open In Colab\"/></a>"
      ]
    },
    {
      "cell_type": "markdown",
      "source": [
        "# 그리디 알고리즘\n",
        "- 그리디 알고리즘(탐욕법)은 현재 상황에서 지금 당장 좋은 것만 고르는 방법을 의미한다.\n",
        "- 일반적인 그리디 알고리즘은 문제를 풀기 위한 최소한의 아이디어를 떠올릴 수 있는 능력을 요구한다.\n",
        "- 그리디 해법은 그 정당성 분석이 중요하다.\n",
        "  - 단순히 가장 좋아 보이는 것을 반복적으로 선택해도 최적의 해를 구할 수 있는지 검토한다.\n",
        "- 일반적인 상황에서 그리디 알고리즘은 최적의 해를 보장할 수 없을 때가 많다.\n",
        "- 하지만 코딩 테스트에서의 대부분의 그리디 문제는 **탐욕법으로 얻은 해가 최적의 해가 되는 상황에서, 이를 추론**할 수 있어야 풀리도록 출제된다.\n",
        "  - 즉, 코딩 테스트에서 그리디 문제로 분류가 되면 일단 그리디 알고리즘으로 해결하면 최적의 해가 구해지는 경우가 대부분이다."
      ],
      "metadata": {
        "id": "72TbCTaQNDoX"
      }
    },
    {
      "cell_type": "markdown",
      "source": [
        "## <문제> 거스름 돈: 문제 설명\n",
        "당신은 음식점의 계산을 도와주는 점원이다.\n",
        "카운터에는 거스름돈으로 500원, 100원, 50원, 10원짜리 동전이 무한히 존재한다.\n",
        "손님에게 거슬러 주어야 할 돈이 N원일 때 거슬러 주어야 할 동전의 최소 개수를 구해라.\n",
        "단, 거슬러 줘야 할 돈 N은 항상 10의 배수이다.\n",
        "\n",
        "## 문제 해결 아이디어\n",
        "- 최적의 해를 빠르게 구하기 위해서는 가장 큰 화폐 단위부터 돈을 거슬러 주면 된다.\n",
        "\n",
        "## 정당성 분석\n",
        "- 가장 큰 화폐 단위부터 돈을 거슬러 주는 것이 최적의 해를 보장하는 이유는 무엇인가?\n",
        "  - 가지고 있는 동전 중에서 큰 단위가 항상 작은 단위의 배수이므로\n",
        "- 그리디 알고리즘 문제에서는 이처럼 문제 풀이를 위한 최소한의 아이디어를 떠올리고 이것이 정당한지 검토할 수 있어야 한다."
      ],
      "metadata": {
        "id": "2ckNO6NOOfbQ"
      }
    },
    {
      "cell_type": "code",
      "execution_count": null,
      "metadata": {
        "colab": {
          "base_uri": "https://localhost:8080/"
        },
        "id": "SEUZBH78NA8G",
        "outputId": "80578a77-d843-481a-d9a4-ae026b87aa8c"
      },
      "outputs": [
        {
          "output_type": "stream",
          "name": "stdout",
          "text": [
            "6\n"
          ]
        }
      ],
      "source": [
        "n= 1260\n",
        "count = 0\n",
        "\n",
        "array = [500, 100, 50, 10]\n",
        "for coin in array:\n",
        "  count += n // coin\n",
        "  n = n%coin\n",
        "print(count)"
      ]
    },
    {
      "cell_type": "markdown",
      "source": [
        ""
      ],
      "metadata": {
        "id": "QhKJTnRVUA0m"
      }
    },
    {
      "cell_type": "markdown",
      "source": [
        "##<문제> 1이 될 때까지"
      ],
      "metadata": {
        "id": "dwPdGOHYaNHJ"
      }
    },
    {
      "cell_type": "code",
      "source": [
        "n,k = list(map(int,input().split()))\n",
        "cnt = 0\n",
        "\n",
        "while True:\n",
        "  if(n%k==0):\n",
        "    n=n/k\n",
        "    cnt += 1\n",
        "  else:\n",
        "    n=n-1\n",
        "    cnt += 1\n",
        "\n",
        "  if(n==1):\n",
        "    break\n",
        "print(cnt)"
      ],
      "metadata": {
        "colab": {
          "base_uri": "https://localhost:8080/"
        },
        "id": "Lu3KKxT3RarI",
        "outputId": "658e3ec8-e2c6-41dd-c402-fcca248bdfe1"
      },
      "execution_count": null,
      "outputs": [
        {
          "output_type": "stream",
          "name": "stdout",
          "text": [
            "99 17\n",
            "19\n"
          ]
        }
      ]
    },
    {
      "cell_type": "markdown",
      "source": [
        "##<문제> 곱하기 혹은 더하기"
      ],
      "metadata": {
        "id": "T6fJclbbayqB"
      }
    },
    {
      "cell_type": "markdown",
      "source": [
        "각 자리가 숫자(0~9)로만 이루어진 문자열 S가 주어졌을 때, 왼쪽부터 오른쪽으로 하나씩 모든 숫자를 확인하며 숫자 사이에 곱하기, 더하기 연산자를 넣어 결과적으로 만들어질 수 있는 가장 큰 수를 구하는 프로그램을 작성하시오."
      ],
      "metadata": {
        "id": "rjcu3lOLa8Ur"
      }
    },
    {
      "cell_type": "code",
      "source": [
        "# 무조건 곱하는게 크니까 0이 없는 곳에는 다 곱하기\n",
        "s = list(input())\n",
        "array = list()\n",
        "for string in s:\n",
        "  array.append(int(string))\n",
        "result = 1\n",
        "for n in array:\n",
        "  if(n==0):\n",
        "    continue\n",
        "  else:\n",
        "    result = result*n\n",
        "\n",
        "print(result)\n",
        "# 오답\n",
        "# 1일 때도 곱하는게 아니라 더해야 함"
      ],
      "metadata": {
        "colab": {
          "base_uri": "https://localhost:8080/"
        },
        "id": "iRIYBZBUa3BK",
        "outputId": "6b8f2ad8-70b7-441a-b4be-668f5baef602"
      },
      "execution_count": null,
      "outputs": [
        {
          "output_type": "stream",
          "name": "stdout",
          "text": [
            "1111111\n",
            "1\n"
          ]
        }
      ]
    },
    {
      "cell_type": "code",
      "source": [
        "s = list(input())\n",
        "array = []\n",
        "for i in s:\n",
        "  array.append(int(i))\n",
        "\n",
        "result = array[0]\n",
        "\n",
        "for idx in range(1,len(array)):\n",
        "  if(array[idx]<=1 or result<=1):\n",
        "    result = result + array[idx]\n",
        "  else:\n",
        "    result = result * array[idx]\n",
        "print(result)"
      ],
      "metadata": {
        "colab": {
          "base_uri": "https://localhost:8080/"
        },
        "id": "GicpCY4Fh8Mo",
        "outputId": "49c1d949-fbc0-4256-d6f9-97c98120ac6b"
      },
      "execution_count": null,
      "outputs": [
        {
          "output_type": "stream",
          "name": "stdout",
          "text": [
            "1223\n",
            "18\n"
          ]
        }
      ]
    },
    {
      "cell_type": "markdown",
      "source": [
        "##<문제> 모험가 길드\n",
        "모험가가 N명 있다. 공포도가 높은 모험가는 위험 상황에서 대처 능력이 떨어진다.\n",
        "그룹을 안전하게 구성하고자 공포도가 X인 모험가는 반드시 X명 이상으로 구성한 모험가 그룹에 참여해야한다.\n",
        "최대 몇 개의 그룹을 만들 수 있는가?"
      ],
      "metadata": {
        "id": "r5gFceSfrskH"
      }
    },
    {
      "cell_type": "code",
      "source": [
        "n = int(input())\n",
        "data = list(map(int, input().split()))\n",
        "data.sort()\n",
        "\n",
        "result = 0\n",
        "count = 0\n",
        "\n",
        "for i in data:\n",
        "  count = count + 1\n",
        "  if count >= i:\n",
        "    result += 1\n",
        "    count = 0\n",
        "print(result)"
      ],
      "metadata": {
        "colab": {
          "base_uri": "https://localhost:8080/"
        },
        "id": "wknuyf6usMda",
        "outputId": "e1b8394c-7c02-44d6-8132-16d04ba39510"
      },
      "execution_count": null,
      "outputs": [
        {
          "output_type": "stream",
          "name": "stdout",
          "text": [
            "5\n",
            "5 4 4 2 1\n",
            "1\n"
          ]
        }
      ]
    },
    {
      "cell_type": "markdown",
      "source": [
        ""
      ],
      "metadata": {
        "id": "70YHfWWBUYkB"
      }
    },
    {
      "cell_type": "markdown",
      "source": [
        "# 백준 문제풀이"
      ],
      "metadata": {
        "id": "UVikC47ZUYyk"
      }
    },
    {
      "cell_type": "markdown",
      "source": [
        "##백준 11399번 ATM"
      ],
      "metadata": {
        "id": "LCrD3I4-aDw8"
      }
    },
    {
      "cell_type": "code",
      "source": [
        "# 입력\n",
        "n= int(input())\n",
        "p = list(map(int, input().split()))\n",
        "\n",
        "# p를 오름차순으로 정렬\n",
        "p = sorted(p)\n",
        "\n",
        "# p[0] * n + p[1] * n-1 +...+ p[4]*n-4\n",
        "total_time = 0\n",
        "for i in range(n):\n",
        "  total_time += p[i] * (n-i)\n",
        "print(total_time) "
      ],
      "metadata": {
        "id": "FX92bl6MS0Yf"
      },
      "execution_count": null,
      "outputs": []
    },
    {
      "cell_type": "markdown",
      "source": [
        "## 백문 1026번 보물"
      ],
      "metadata": {
        "id": "W_xU7mB5T08Q"
      }
    },
    {
      "cell_type": "code",
      "source": [
        "n = int(input())\n",
        "a_list = list(map(int,input().split()))\n",
        "b_list = list(map(int,input().split()))\n",
        "\n",
        "sum = 0\n",
        "\n",
        "a_list = sorted(a_list)\n",
        "b_list = sorted(b_list, reverse=True)\n",
        "for i in range(len(a_list)):\n",
        "  sum += a_list[i]*b_list[i]\n",
        "print(sum)  "
      ],
      "metadata": {
        "colab": {
          "base_uri": "https://localhost:8080/"
        },
        "id": "rT0N5VADT0OV",
        "outputId": "c7598740-7a8f-4e53-dc51-cd6c3308bc26"
      },
      "execution_count": null,
      "outputs": [
        {
          "output_type": "stream",
          "name": "stdout",
          "text": [
            "5\n",
            "1 1 1 6 0\n",
            "2 7 8 3 1\n",
            "[0, 1, 1, 1, 6] [8, 7, 3, 2, 1]\n",
            "18\n"
          ]
        }
      ]
    },
    {
      "cell_type": "code",
      "source": [
        ""
      ],
      "metadata": {
        "id": "YC6DwrcyYQFb"
      },
      "execution_count": null,
      "outputs": []
    }
  ]
}