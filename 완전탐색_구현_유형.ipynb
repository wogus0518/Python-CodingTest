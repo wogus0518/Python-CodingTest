{
  "nbformat": 4,
  "nbformat_minor": 0,
  "metadata": {
    "colab": {
      "name": "완전탐색_구현_유형.ipynb",
      "provenance": [],
      "collapsed_sections": [],
      "toc_visible": true,
      "authorship_tag": "ABX9TyO53rMEGdJ1cKQkPfYVs54T",
      "include_colab_link": true
    },
    "kernelspec": {
      "name": "python3",
      "display_name": "Python 3"
    },
    "language_info": {
      "name": "python"
    }
  },
  "cells": [
    {
      "cell_type": "markdown",
      "metadata": {
        "id": "view-in-github",
        "colab_type": "text"
      },
      "source": [
        "<a href=\"https://colab.research.google.com/github/wogus0518/Python-CodingTest/blob/main/%EC%99%84%EC%A0%84%ED%83%90%EC%83%89_%EA%B5%AC%ED%98%84_%EC%9C%A0%ED%98%95.ipynb\" target=\"_parent\"><img src=\"https://colab.research.google.com/assets/colab-badge.svg\" alt=\"Open In Colab\"/></a>"
      ]
    },
    {
      "cell_type": "markdown",
      "source": [
        "# 구현\n",
        "- 풀이를 떠올리는 것은 쉽지만 소스코드로 옮기기 어려운 문제 유형\n",
        "  - 알고리즘은 간단한데 코드가 지나칠 만큼 길어지는 문제\n",
        "  - 실수 연산을 다루고, 특정 소수점 자리까지 출력해야 하는 문제\n",
        "  - 문자열을 특정한 기준에 따라서 끊어 처리해야 하는 문제\n",
        "  - 적절한 라이브러리를 찾아서 사용해야 하는 문제"
      ],
      "metadata": {
        "id": "tAYXv7Lo43gI"
      }
    },
    {
      "cell_type": "markdown",
      "source": [
        "#완전탐색\n",
        "- 답을 찾기 위해 모든 경우를 다 살펴본다는 전략\n",
        "- 시간이 오래 걸린다는 게 단점"
      ],
      "metadata": {
        "id": "t4fdOU5L3RH-"
      }
    },
    {
      "cell_type": "markdown",
      "source": [
        "#브루트 포스\n",
        "- 무차별 대입이라는 의미\n",
        "- 완전탐색으로도 제한시간 안에 될 것인지 먼저 생각해보자\n",
        "- 브루트 포스로 문제를 풀 때는 반복문, 재귀, 순열, 조합으로 풀 수 있다.\n",
        "- 순열(permutations), 조합(combinations)"
      ],
      "metadata": {
        "id": "twf2ujaj3RH_"
      }
    },
    {
      "cell_type": "markdown",
      "source": [
        "##<문제> 상하좌우"
      ],
      "metadata": {
        "id": "ZwKCY99PAhgv"
      }
    },
    {
      "cell_type": "code",
      "execution_count": null,
      "metadata": {
        "colab": {
          "base_uri": "https://localhost:8080/"
        },
        "id": "GNbSzsGP4y-3",
        "outputId": "2af42427-d8a3-4d9a-9d93-e04e5279f8e8"
      },
      "outputs": [
        {
          "output_type": "stream",
          "name": "stdout",
          "text": [
            "5\n",
            "R R R U D D\n",
            "3 4\n"
          ]
        }
      ],
      "source": [
        "n = int(input())\n",
        "plans = input().split()\n",
        "x = 1\n",
        "y = 1\n",
        "\n",
        "# L R U D\n",
        "dx = [0, 0, -1, 1]\n",
        "dy = [-1, 1, 0, 0]\n",
        "dir = ['L', 'R', 'U', 'D']\n",
        "\n",
        "for plan in plans:\n",
        "  for idx in range(len(dir)):\n",
        "    if dir[idx] == plan:\n",
        "      nx = x + dx[idx]\n",
        "      ny = y + dy[idx]\n",
        "  if nx<1 or nx>n or ny<1 or ny>n :\n",
        "    continue\n",
        "  x = nx\n",
        "  y = ny\n",
        "print(x, y)\n"
      ]
    },
    {
      "cell_type": "markdown",
      "source": [
        "##<문제> 시각\n",
        "정수 N이 입력되면 00시00분00초부터 N시 59분 59초까지의 모든 시작 중에서 3이 하나라도 포함되는 모든 경우의 수를 구하는 프로그램을 작성하시오"
      ],
      "metadata": {
        "id": "-z-WLML7Asmi"
      }
    },
    {
      "cell_type": "code",
      "source": [
        "n = int(input())\n",
        "cnt = 0\n",
        "for h in range(n+1):\n",
        "    for m in range(60):\n",
        "        for s in range(60):\n",
        "            if '3' in (str(h)+str(m)+str(s)):\n",
        "                cnt += 1\n",
        "print(cnt)"
      ],
      "metadata": {
        "colab": {
          "base_uri": "https://localhost:8080/"
        },
        "id": "SzLYYzY-7B0K",
        "outputId": "6cde6832-1a2d-4f71-f49d-99ca86dd4538"
      },
      "execution_count": null,
      "outputs": [
        {
          "output_type": "stream",
          "name": "stdout",
          "text": [
            "5\n",
            "11475\n"
          ]
        }
      ]
    },
    {
      "cell_type": "markdown",
      "source": [
        "##<문제> 체스판\n",
        "체스판에서 임의의 지점의 나이트의 이동 가능한 모든 경우의 수를 계산하시오"
      ],
      "metadata": {
        "id": "lBBh6kb_KNAB"
      }
    },
    {
      "cell_type": "code",
      "source": [
        "e = {'a':1,    'b':2,     'c':3,     'd':4,     'e':5,     'f':6,     'g':7,     'h':8}\n",
        "loc = input()\n",
        "x = int(loc[1])\n",
        "y = e[loc[0]]\n",
        "\n",
        "# 1시 2시 4시 5시 7시 8시 10시 11시\n",
        "dx = [1, 2, 2, 1, -1, -2, -2, -1]\n",
        "dy = [-2, -1, 1, 2, 2, 1, -1, -2]\n",
        "count = 0\n",
        "\n",
        "for idx in range(len(dx)):\n",
        "    nx = x + dx[idx]\n",
        "    ny = y + dy[idx]\n",
        "    if nx<1 or ny<1 or nx>8 or ny>8:\n",
        "      continue\n",
        "    count += 1\n",
        "print(count)\n"
      ],
      "metadata": {
        "colab": {
          "base_uri": "https://localhost:8080/"
        },
        "id": "Wy7WRCR8DDpW",
        "outputId": "5187b5a9-e0dd-4d3a-c68a-d9865a45f5d5"
      },
      "execution_count": null,
      "outputs": [
        {
          "output_type": "stream",
          "name": "stdout",
          "text": [
            "e5\n",
            "8\n"
          ]
        }
      ]
    },
    {
      "cell_type": "markdown",
      "source": [
        "##<문제>알파벳과 숫자 정렬\n",
        "알파벳 대문자와 숫자로만 구성된 문자열이 입력으로 주어진다. 이때 모든 알파벳을 오름차순으로 정렬하여 이어서 출력한 뒤에, 그 뒤에 모든 숫자를 더한 값을 이어서 출력합니다."
      ],
      "metadata": {
        "id": "7Mvq6mnnKxwx"
      }
    },
    {
      "cell_type": "code",
      "source": [
        "data = input()\n",
        "dataSet = list(data)\n",
        "sum = 0\n",
        "alp_list = []\n",
        "\n",
        "for data in dataSet:\n",
        "  try :\n",
        "    sum += int(data)\n",
        "  except:\n",
        "    alp_list.append(data)\n",
        "\n",
        "alp_list = sorted(alp_list)\n",
        "if sum != 0:\n",
        "  result = \"\".join(alp_list)+str(sum)\n",
        "else:\n",
        "  result = \"\".join(alp_list)\n",
        "print(result)\n",
        "# 숫자가 안들어오는 상황을 인지 못했음"
      ],
      "metadata": {
        "colab": {
          "base_uri": "https://localhost:8080/"
        },
        "id": "gZOxrV2jIRRp",
        "outputId": "833eed95-17da-450e-a359-e334e07ad3b9"
      },
      "execution_count": null,
      "outputs": [
        {
          "output_type": "stream",
          "name": "stdout",
          "text": [
            "asdfasdf\n",
            "aaddffss\n"
          ]
        }
      ]
    },
    {
      "cell_type": "code",
      "source": [
        "# 답안 예시\n",
        "data = input()\n",
        "result = []\n",
        "value = 0\n",
        "\n",
        "for x in data:\n",
        "  if x.isalpha():\n",
        "    result.append(x)\n",
        "  else:\n",
        "    value += int(x)\n",
        "  \n",
        "result.sort()\n",
        "if value != 0:\n",
        "  result.append(str(value))\n",
        "\n",
        "print(\"\".join(result))"
      ],
      "metadata": {
        "colab": {
          "base_uri": "https://localhost:8080/"
        },
        "id": "pw8cNVudLdMv",
        "outputId": "54ef7a14-467d-4d55-bc1b-6a908fca4a22"
      },
      "execution_count": null,
      "outputs": [
        {
          "output_type": "stream",
          "name": "stdout",
          "text": [
            "fsadfsdaf\n",
            "aaddfffss\n"
          ]
        }
      ]
    },
    {
      "cell_type": "markdown",
      "source": [
        "##3040 / 백설 공주와 일곱 난쟁이"
      ],
      "metadata": {
        "id": "D41vUUEa3r_6"
      }
    },
    {
      "cell_type": "code",
      "source": [
        "from itertools import combinations\n",
        "del sum\n",
        "for i in combinations( [int(input()) for _ in range(9)], 7 ):\n",
        "    if sum(i) == 100:\n",
        "        for j in i:\n",
        "            print(j)\n",
        "        break"
      ],
      "metadata": {
        "colab": {
          "base_uri": "https://localhost:8080/"
        },
        "id": "IwSEIF2LFQft",
        "outputId": "58c13298-8b8d-44bf-81af-3843239944ed"
      },
      "execution_count": null,
      "outputs": [
        {
          "output_type": "stream",
          "name": "stdout",
          "text": [
            "7\n",
            "8\n",
            "10\n",
            "13\n",
            "15\n",
            "19\n",
            "20\n",
            "23\n",
            "5\n",
            "(7, 8, 10, 13, 19, 20, 23)\n",
            "(8, 10, 15, 19, 20, 23, 5)\n"
          ]
        }
      ]
    },
    {
      "cell_type": "markdown",
      "source": [
        "##10448 / 유레카 이론"
      ],
      "metadata": {
        "id": "-z4BxWJT3067"
      }
    },
    {
      "cell_type": "code",
      "source": [
        "from itertools import combinations_with_replacement\n",
        "\n",
        "tr = [ n*(n+1)/2 for n in range(1,46)]\n",
        "\n",
        "for _ in range(int(input())):\n",
        "    num = int(input())\n",
        "    ans=0\n",
        "\n",
        "    for i in combinations_with_replacement(tr, 3):\n",
        "        if sum(i) == num:\n",
        "            ans=1\n",
        "            break\n",
        "    print(ans)\n"
      ],
      "metadata": {
        "colab": {
          "base_uri": "https://localhost:8080/"
        },
        "id": "psY5ld_wLRbc",
        "outputId": "3bce6bed-6867-46d4-f347-61816c0a0e70"
      },
      "execution_count": null,
      "outputs": [
        {
          "output_type": "stream",
          "name": "stdout",
          "text": [
            "1\n",
            "20\n",
            "0\n"
          ]
        }
      ]
    },
    {
      "cell_type": "markdown",
      "source": [
        "##3085 / 사탕 게임"
      ],
      "metadata": {
        "id": "5drIVjPI39Vk"
      }
    },
    {
      "cell_type": "code",
      "source": [
        "n = int(input())\n",
        "arr = []\n",
        "for _ in range(n):\n",
        "    arr.append(list(input()))\n",
        "\n",
        "# 현재 행렬을 가지고 먹을 수 있는 사탕의 개수를 구하는 함수\n",
        "def countCandy(array):\n",
        "    max_count = 0\n",
        "    # 가로\n",
        "    for i in array:\n",
        "        last = ''\n",
        "        count = 1\n",
        "        for j in i:\n",
        "            if last==j:\n",
        "                count += 1\n",
        "            else:\n",
        "                last = j\n",
        "                count = 1\n",
        "            max_count = count if max_count < count else max_count\n",
        "    # 세로\n",
        "    for i in range(len(array)):\n",
        "        last = ''\n",
        "        count = 1\n",
        "        for j in range(len(array)):\n",
        "            if array[j][i] == last :\n",
        "                count += 1\n",
        "            else:\n",
        "                last = array[j][i]\n",
        "                count = 1\n",
        "            max_count = count if max_count < count else max_count\n",
        "\n",
        "    return max_count\n",
        "\n",
        "result = 0\n",
        "for i in range(n):\n",
        "    for j in range(n-1):\n",
        "        arr[i][j], arr[i][j+1] = arr[i][j+1], arr[i][j]\n",
        "        result = countCandy(arr) if result < countCandy(arr) else result\n",
        "        arr[i][j], arr[i][j+1] = arr[i][j+1], arr[i][j]\n",
        "\n",
        "for i in range(n-1):\n",
        "    for j in range(n):\n",
        "        arr[i][j], arr[i+1][j] = arr[i+1][j], arr[i][j]\n",
        "        result = countCandy(arr) if result < countCandy(arr) else result\n",
        "        arr[i][j], arr[i+1][j] = arr[i+1][j], arr[i][j]\n",
        "\n",
        "print(result)\n",
        "\n",
        "## deepcopy는 시간초과를 일으킨다. 매우 시간이 오래걸리는 작업 deepcopy가 꼭 필요하다면 슬라이싱을 사용하자\n",
        "# for i in range(n):\n",
        "#     for j in range(n-1):\n",
        "#         arrCopy=copy.deepcopy(arr)\n",
        "#         tmp = arrCopy[i][j]\n",
        "#         arrCopy[i][j] = arrCopy[i][j+1]\n",
        "#         arrCopy[i][j+1] = tmp\n",
        "#         result = countCandy(arrCopy) if result < countCandy(arrCopy) else result\n",
        "\n",
        "# for i in range(n-1):\n",
        "#     for j in range(n):\n",
        "#         arrCopy=copy.deepcopy(arr)\n",
        "#         tmp = arrCopy[i][j]\n",
        "#         arrCopy[i][j] = arrCopy[i+1][j]\n",
        "#         arrCopy[i+1][j] = tmp\n",
        "#         result = countCandy(arrCopy) if result < countCandy(arrCopy) else result"
      ],
      "metadata": {
        "colab": {
          "base_uri": "https://localhost:8080/"
        },
        "id": "jm0BI6elOmh2",
        "outputId": "bb62fc19-361e-4aea-8248-169bff283cb9"
      },
      "execution_count": null,
      "outputs": [
        {
          "output_type": "stream",
          "name": "stdout",
          "text": [
            "5\n",
            "ycpzy\n",
            "cyzzp\n",
            "ccppp\n",
            "ycyzc\n",
            "cppzz\n",
            "4\n"
          ]
        }
      ]
    },
    {
      "cell_type": "markdown",
      "source": [
        "####복습"
      ],
      "metadata": {
        "id": "-MxP_7-tlJJB"
      }
    },
    {
      "cell_type": "code",
      "source": [
        "def countCandy(board):\n",
        "  ans = 0\n",
        "  #가로\n",
        "  for i in range(len(board)):\n",
        "    cnt = 1\n",
        "    for j in range(1, len(board)):\n",
        "      if board[i][j-1] == board[i][j]:\n",
        "        cnt += 1\n",
        "        ans = max(ans, cnt)\n",
        "      else:\n",
        "        cnt = 1\n",
        "  #세로\n",
        "  for i in range(len(board)):\n",
        "    cnt = 1\n",
        "    for j in range(1, len(board)):\n",
        "      if board[j-1][i] == board[j][i]:\n",
        "        cnt += 1\n",
        "        ans = max(ans, cnt)\n",
        "      else:\n",
        "        cnt = 1      \n",
        "\n",
        "  return ans\n",
        "\n",
        "n = int(input())\n",
        "board = []\n",
        "for _ in range(n):\n",
        "  board.append(list(input()))\n",
        "\n",
        "result = []\n",
        "for i in range(len(board)):\n",
        "  for j in range(len(board)-1):\n",
        "    board[i][j], board[i][j+1] = board[i][j+1], board[i][j]\n",
        "    result.append(countCandy(board))\n",
        "    board[i][j], board[i][j+1] = board[i][j+1], board[i][j]\n",
        "\n",
        "    board[j][i], board[j+1][i] = board[j+1][i], board[j][i]\n",
        "    result.append(countCandy(board))\n",
        "    board[j][i], board[j+1][i] = board[j+1][i], board[j][i]\n",
        "print(max(result))\n"
      ],
      "metadata": {
        "id": "M7rp1b8TlIaH"
      },
      "execution_count": null,
      "outputs": []
    },
    {
      "cell_type": "markdown",
      "source": [
        "##7568 / 덩치"
      ],
      "metadata": {
        "id": "QpzOWG526tQi"
      }
    },
    {
      "cell_type": "code",
      "source": [
        "data = []\n",
        "for _ in range(int(input())):\n",
        "    w, t = map(int, input().split())\n",
        "    data.append([w, t, 0])\n",
        "\n",
        "for idx in range(len(data)):\n",
        "    c_w = data[idx][0]\n",
        "    c_t = data[idx][1]\n",
        "    count = 0\n",
        "    for w, t, n in data:\n",
        "        if w>c_w and t>c_t:\n",
        "            count += 1\n",
        "    data[idx][2] = count + 1\n",
        "for d in data:\n",
        "    print(d[2], end=\" \")"
      ],
      "metadata": {
        "colab": {
          "base_uri": "https://localhost:8080/"
        },
        "id": "mRlmy0AJ6rXf",
        "outputId": "489176de-82dc-4db5-9846-a252eeaec685"
      },
      "execution_count": null,
      "outputs": [
        {
          "output_type": "stream",
          "name": "stdout",
          "text": [
            "5\n",
            "55 185\n",
            "58 183\n",
            "88 186\n",
            "60 175\n",
            "46 155\n",
            "[[55, 185, 2], [58, 183, 2], [88, 186, 1], [60, 175, 2], [46, 155, 5]]\n",
            "2 2 1 2 5 "
          ]
        }
      ]
    },
    {
      "cell_type": "markdown",
      "source": [
        "##2231 / 분해합"
      ],
      "metadata": {
        "id": "1GCqQYxeLB4M"
      }
    },
    {
      "cell_type": "code",
      "source": [
        "n = int(input())\n",
        "ans = 0\n",
        "\n",
        "for i in range(1,n):\n",
        "    sum = i\n",
        "    for j in str(i):\n",
        "        sum += int(j)\n",
        "    if sum == n:\n",
        "        ans = i\n",
        "        break\n",
        "print(ans)"
      ],
      "metadata": {
        "colab": {
          "base_uri": "https://localhost:8080/"
        },
        "id": "9fZ_D5hCKF6P",
        "outputId": "4f335e11-b89c-4285-91fe-53a1d2be2f4a"
      },
      "execution_count": null,
      "outputs": [
        {
          "output_type": "stream",
          "name": "stdout",
          "text": [
            "216\n",
            "198\n"
          ]
        }
      ]
    }
  ]
}