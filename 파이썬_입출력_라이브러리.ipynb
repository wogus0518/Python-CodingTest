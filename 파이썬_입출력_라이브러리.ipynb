{
  "nbformat": 4,
  "nbformat_minor": 0,
  "metadata": {
    "colab": {
      "name": "파이썬_입출력_라이브러리.ipynb",
      "provenance": [],
      "collapsed_sections": [],
      "toc_visible": true,
      "authorship_tag": "ABX9TyMjXOKcDamLeS92LAR0VO/z",
      "include_colab_link": true
    },
    "kernelspec": {
      "name": "python3",
      "display_name": "Python 3"
    },
    "language_info": {
      "name": "python"
    }
  },
  "cells": [
    {
      "cell_type": "markdown",
      "metadata": {
        "id": "view-in-github",
        "colab_type": "text"
      },
      "source": [
        "<a href=\"https://colab.research.google.com/github/wogus0518/Python-CodingTest/blob/main/%ED%8C%8C%EC%9D%B4%EC%8D%AC_%EC%9E%85%EC%B6%9C%EB%A0%A5_%EB%9D%BC%EC%9D%B4%EB%B8%8C%EB%9F%AC%EB%A6%AC.ipynb\" target=\"_parent\"><img src=\"https://colab.research.google.com/assets/colab-badge.svg\" alt=\"Open In Colab\"/></a>"
      ]
    },
    {
      "cell_type": "markdown",
      "source": [
        "# 기본 입출력\n",
        "- 모든 프로그램은 적절한 입출력 양식을 가지고 있다.\n",
        "- 프로그램 동작의 첫 번째 단계는 데이터를 입력 받거나 생성하는 것이다.\n",
        "\n",
        "# 자주 사용되는 표준 입력 방법\n",
        "- input() 함수는 한 줄의 문자열을 입력 받는 함수\n",
        "- map() 함수는 리스트의 모든 원소에 각각 특정한 함수를 적용할 때 사용"
      ],
      "metadata": {
        "id": "sJmq-Jnk5DwG"
      }
    },
    {
      "cell_type": "code",
      "source": [
        "# 공백을 기준으로 구분된 데이터를 입력 받는 코드를 작성하시오.\n",
        "list(map(int, input().split()))"
      ],
      "metadata": {
        "colab": {
          "base_uri": "https://localhost:8080/"
        },
        "id": "Wr0LETls5na5",
        "outputId": "a6702c98-b522-4acf-cf24-c8cb80d34729"
      },
      "execution_count": null,
      "outputs": [
        {
          "name": "stdout",
          "output_type": "stream",
          "text": [
            "1 2 3\n"
          ]
        },
        {
          "output_type": "execute_result",
          "data": {
            "text/plain": [
              "[1, 2, 3]"
            ]
          },
          "metadata": {},
          "execution_count": 1
        }
      ]
    },
    {
      "cell_type": "code",
      "source": [
        "a = input().split()\n",
        "a = list(map(int, a))\n",
        "print(a)"
      ],
      "metadata": {
        "colab": {
          "base_uri": "https://localhost:8080/"
        },
        "id": "x2WiXmCe52sd",
        "outputId": "4e855846-dd01-43d6-a535-12f43c0fcb32"
      },
      "execution_count": null,
      "outputs": [
        {
          "output_type": "stream",
          "name": "stdout",
          "text": [
            "1 5616 846\n",
            "[1, 5616, 846]\n"
          ]
        }
      ]
    },
    {
      "cell_type": "markdown",
      "source": [
        "## 빠르게 입력 받기\n",
        "- 입력의 갯수가 많아 시간 초과 판정을 받을 가능성이 있을 경우 사용자로부터 입력을 최대한 빠르게 받아야 하는 경우가 있다.\n",
        "- 파이썬의 경우 sys 라이브러리에 정의되어 있는 sys.stdin.readline() 메소드를 이용한다.\n",
        "  - 단, 입력 후 엔터가 줄 바꿈 기호로 입력되므로 rstrip() 메소드를 함께 사용한다."
      ],
      "metadata": {
        "id": "XvdQCWfg7lFP"
      }
    },
    {
      "cell_type": "code",
      "source": [
        "# 빠르게 입력 받을 수 있는 코드를 작성하시오.\n",
        "import sys\n",
        "\n",
        "data = sys.stdin.readline().rstrip()\n",
        "print(data)"
      ],
      "metadata": {
        "colab": {
          "base_uri": "https://localhost:8080/"
        },
        "id": "jVHkdjeV64PK",
        "outputId": "5e4b4b16-1973-40ad-d86d-07f2691b8683"
      },
      "execution_count": null,
      "outputs": [
        {
          "output_type": "stream",
          "name": "stdout",
          "text": [
            "\n"
          ]
        }
      ]
    },
    {
      "cell_type": "markdown",
      "source": [
        "# 표준 출력 방법\n",
        "- 파이썬에서 기본 출력은 print() 함수이다.\n",
        "  - 각 변수를 콤마를 이용하여 띄어쓰기로 구분하여 출력할 수 있다.\n",
        "- print()는 기본적으로 출력 이후에 줄 바꿈을 수행한다.\n",
        "  - 줄 바꿈을 원치 않는 경우 'end' 속성을 이용할 수 있다."
      ],
      "metadata": {
        "id": "GcSrjcQ28ZX4"
      }
    },
    {
      "cell_type": "markdown",
      "source": [
        "# 유용한 표준 라이브러리\n",
        "- 내장 함수: 기본 입출력 함수부터 정렬 함수까지 기본적인 함수들을 제공한다.\n",
        "  - 파이썬 프로그램을 작성할 때 없어서는 안 되는 필수적인 기능을 포함하고 있다.\n",
        "- itertools: 파이썬에서 반복되는 형태의 데이터를 처리하기 위한 유용한 기능들을 제공한다.\n",
        "  - 특히 순열과 조합 라이브러리는 코딩 테스트에서 자주 사용된다.\n",
        "- heapq: 힙(Heap) 자료구조를 제공한다.\n",
        "  - 일반적으로 우선순위 큐 기능을 구현하기 위해 사용된다.\n",
        "- bisect: 이진 탐색 기능을 제공한다.\n",
        "- collections: 덱(deque), 카운터(Counter) 등의 유용한 자료구조를 포함한다.\n",
        "- math: 필수적인 수학적 기능을 제공한다.\n",
        "  - 팩토리얼, 제곱근, 최대공약수, 삼각함수 관련 함수부터 파이(pi)와 같은 상수를 포함한다."
      ],
      "metadata": {
        "id": "kK8GOI0VFRXV"
      }
    },
    {
      "cell_type": "code",
      "source": [
        "# 점수를 기준으로 내림차순으로 정렬하시오.\n",
        "array = [('홍길동', 35), ('이순신', 75), ('아무개', 50)]\n",
        "result = sorted(array, key= lambda x : x[1], reverse=True)\n",
        "result"
      ],
      "metadata": {
        "colab": {
          "base_uri": "https://localhost:8080/"
        },
        "id": "LwQfNuzwF-Cu",
        "outputId": "78d2247c-1304-4d51-c867-5aec52b3250f"
      },
      "execution_count": null,
      "outputs": [
        {
          "output_type": "execute_result",
          "data": {
            "text/plain": [
              "[('이순신', 75), ('아무개', 50), ('홍길동', 35)]"
            ]
          },
          "metadata": {},
          "execution_count": 16
        }
      ]
    },
    {
      "cell_type": "code",
      "source": [
        "data = ['A', 'B', 'C'] "
      ],
      "metadata": {
        "id": "3BtTHzdfG571"
      },
      "execution_count": null,
      "outputs": []
    },
    {
      "cell_type": "code",
      "source": [
        "# 모든 순열을 구하시오\n",
        "from itertools import permutations\n",
        "\n",
        "result = list(permutations(data, 3))\n",
        "result"
      ],
      "metadata": {
        "colab": {
          "base_uri": "https://localhost:8080/"
        },
        "id": "MDbhgE8pIP0N",
        "outputId": "9000e44c-9527-4ebb-c553-8d67180f8f2c"
      },
      "execution_count": null,
      "outputs": [
        {
          "output_type": "execute_result",
          "data": {
            "text/plain": [
              "[('A', 'B', 'C'),\n",
              " ('A', 'C', 'B'),\n",
              " ('B', 'A', 'C'),\n",
              " ('B', 'C', 'A'),\n",
              " ('C', 'A', 'B'),\n",
              " ('C', 'B', 'A')]"
            ]
          },
          "metadata": {},
          "execution_count": 21
        }
      ]
    },
    {
      "cell_type": "code",
      "source": [
        "# 모든 조합을 구하시오\n",
        "from itertools import combinations\n",
        "\n",
        "result = list(combinations(data, 2))\n",
        "result"
      ],
      "metadata": {
        "colab": {
          "base_uri": "https://localhost:8080/"
        },
        "id": "_fyydXYwIb9a",
        "outputId": "ffe2fef1-495f-40d5-ca2e-14e9fa9beb1c"
      },
      "execution_count": null,
      "outputs": [
        {
          "output_type": "execute_result",
          "data": {
            "text/plain": [
              "[('A', 'B'), ('A', 'C'), ('B', 'C')]"
            ]
          },
          "metadata": {},
          "execution_count": 22
        }
      ]
    },
    {
      "cell_type": "code",
      "source": [
        "# 2개를 뽑는 모든 순열 구하기( 중복 허용 )\n",
        "from itertools import product\n",
        "\n",
        "result = list(product(data, repeat=2))\n",
        "result"
      ],
      "metadata": {
        "colab": {
          "base_uri": "https://localhost:8080/"
        },
        "id": "BdZB_EspI0Fc",
        "outputId": "b1240b9e-7a79-4469-8ccc-a93e5ec246d2"
      },
      "execution_count": null,
      "outputs": [
        {
          "output_type": "execute_result",
          "data": {
            "text/plain": [
              "[('A', 'A'),\n",
              " ('A', 'B'),\n",
              " ('A', 'C'),\n",
              " ('B', 'A'),\n",
              " ('B', 'B'),\n",
              " ('B', 'C'),\n",
              " ('C', 'A'),\n",
              " ('C', 'B'),\n",
              " ('C', 'C')]"
            ]
          },
          "metadata": {},
          "execution_count": 23
        }
      ]
    },
    {
      "cell_type": "code",
      "source": [
        "# 2개를 뽑는 모든 조합 구하기 ( 중복 허용 )\n",
        "from itertools import combinations_with_replacement\n",
        "\n",
        "result = list(combinations_with_replacement(data, 2))\n",
        "result"
      ],
      "metadata": {
        "colab": {
          "base_uri": "https://localhost:8080/"
        },
        "id": "zaPrizOVLH4t",
        "outputId": "caac408f-54c4-41ad-807e-9f0ca429b3fe"
      },
      "execution_count": null,
      "outputs": [
        {
          "output_type": "execute_result",
          "data": {
            "text/plain": [
              "[('A', 'A'), ('A', 'B'), ('A', 'C'), ('B', 'B'), ('B', 'C'), ('C', 'C')]"
            ]
          },
          "metadata": {},
          "execution_count": 24
        }
      ]
    },
    {
      "cell_type": "markdown",
      "source": [
        "- 리스트와 같은 반복 가능한 객체가 주어졌을 때 내부의 원소가 몇 번씩 등장했는지를 알려준다."
      ],
      "metadata": {
        "id": "gOuONDLGLmTn"
      }
    },
    {
      "cell_type": "code",
      "source": [
        "from collections import Counter\n",
        "counter = Counter(['red','blue','red','green','blue','blue'])\n",
        "\n",
        "print(counter['red'])\n",
        "print(counter)\n",
        "print(dict(counter))"
      ],
      "metadata": {
        "colab": {
          "base_uri": "https://localhost:8080/"
        },
        "id": "fYEBbhTXLWrY",
        "outputId": "5e1dcb0d-49ac-48e4-f15a-37499bb32dbd"
      },
      "execution_count": null,
      "outputs": [
        {
          "output_type": "stream",
          "name": "stdout",
          "text": [
            "2\n",
            "Counter({'blue': 3, 'red': 2, 'green': 1})\n",
            "{'red': 2, 'blue': 3, 'green': 1}\n"
          ]
        }
      ]
    },
    {
      "cell_type": "code",
      "source": [
        ""
      ],
      "metadata": {
        "id": "b_lsrb8AL9By"
      },
      "execution_count": null,
      "outputs": []
    }
  ]
}